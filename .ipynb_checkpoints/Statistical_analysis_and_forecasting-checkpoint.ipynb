{
 "cells": [
  {
   "cell_type": "markdown",
   "id": "12cddbf4",
   "metadata": {},
   "source": [
    "# Statistical analysis and forecasting"
   ]
  },
  {
   "cell_type": "code",
   "execution_count": 1,
   "id": "996015fe",
   "metadata": {},
   "outputs": [],
   "source": [
    "# Suppress the warnings\n",
    "import warnings\n",
    "warnings.filterwarnings('ignore')\n",
    "\n",
    "from statsmodels.tools.sm_exceptions import ValueWarning\n",
    "warnings.simplefilter('ignore', ValueWarning)"
   ]
  },
  {
   "cell_type": "code",
   "execution_count": 63,
   "id": "13734f8f",
   "metadata": {},
   "outputs": [],
   "source": [
    "#import required libraries\n",
    "\n",
    "import pandas as pd\n",
    "import os\n",
    "import numpy as np\n",
    "from numpy import sqrt\n",
    "from matplotlib import pyplot as plt\n",
    "import seaborn as sns\n",
    "from datetime import datetime\n",
    "from datetime import date, timedelta\n",
    "from dateutil.relativedelta import relativedelta\n",
    "from pandas import DataFrame\n",
    "from pandas.plotting import lag_plot\n",
    "from pandas.plotting import autocorrelation_plot\n",
    "from statsmodels.tsa.stattools import adfuller\n",
    "from statsmodels.graphics.tsaplots import plot_predict\n",
    "from statsmodels.tsa.arima.model import ARIMA\n",
    "from statsmodels.graphics.tsaplots import plot_acf\n",
    "from statsmodels.tsa.arima.model import ARIMA\n",
    "from sklearn.model_selection import TimeSeriesSplit\n",
    "from sklearn.metrics import mean_squared_error\n",
    "from tabulate import tabulate\n",
    "import statsmodels.api as sm\n",
    "from scipy.stats import shapiro"
   ]
  },
  {
   "cell_type": "code",
   "execution_count": 3,
   "id": "e2c47df2",
   "metadata": {},
   "outputs": [
    {
     "data": {
      "text/plain": [
       "0        0\n",
       "1        1\n",
       "2        2\n",
       "3        3\n",
       "4        4\n",
       "      ... \n",
       "507    507\n",
       "508    508\n",
       "509    509\n",
       "510    510\n",
       "511    511\n",
       "Name: Unnamed: 0, Length: 512, dtype: int64"
      ]
     },
     "execution_count": 3,
     "metadata": {},
     "output_type": "execute_result"
    }
   ],
   "source": [
    "path = os.getcwd()\n",
    "irish_costs = pd.read_csv(path + \"/irish_costs.csv\")\n",
    "irish_costs.pop('Unnamed: 0')"
   ]
  },
  {
   "cell_type": "code",
   "execution_count": 4,
   "id": "bc529c97",
   "metadata": {},
   "outputs": [
    {
     "data": {
      "text/html": [
       "<div>\n",
       "<style scoped>\n",
       "    .dataframe tbody tr th:only-of-type {\n",
       "        vertical-align: middle;\n",
       "    }\n",
       "\n",
       "    .dataframe tbody tr th {\n",
       "        vertical-align: top;\n",
       "    }\n",
       "\n",
       "    .dataframe thead th {\n",
       "        text-align: right;\n",
       "    }\n",
       "</style>\n",
       "<table border=\"1\" class=\"dataframe\">\n",
       "  <thead>\n",
       "    <tr style=\"text-align: right;\">\n",
       "      <th></th>\n",
       "      <th>Month</th>\n",
       "      <th>UNIT</th>\n",
       "      <th>House Construction Cost Index</th>\n",
       "    </tr>\n",
       "  </thead>\n",
       "  <tbody>\n",
       "    <tr>\n",
       "      <th>0</th>\n",
       "      <td>197501</td>\n",
       "      <td>Base Jan 1991=100</td>\n",
       "      <td>18.3</td>\n",
       "    </tr>\n",
       "    <tr>\n",
       "      <th>1</th>\n",
       "      <td>197502</td>\n",
       "      <td>Base Jan 1991=100</td>\n",
       "      <td>18.7</td>\n",
       "    </tr>\n",
       "    <tr>\n",
       "      <th>2</th>\n",
       "      <td>197503</td>\n",
       "      <td>Base Jan 1991=100</td>\n",
       "      <td>18.8</td>\n",
       "    </tr>\n",
       "    <tr>\n",
       "      <th>3</th>\n",
       "      <td>197504</td>\n",
       "      <td>Base Jan 1991=100</td>\n",
       "      <td>19.6</td>\n",
       "    </tr>\n",
       "    <tr>\n",
       "      <th>4</th>\n",
       "      <td>197505</td>\n",
       "      <td>Base Jan 1991=100</td>\n",
       "      <td>19.8</td>\n",
       "    </tr>\n",
       "  </tbody>\n",
       "</table>\n",
       "</div>"
      ],
      "text/plain": [
       "    Month               UNIT  House Construction Cost Index\n",
       "0  197501  Base Jan 1991=100                           18.3\n",
       "1  197502  Base Jan 1991=100                           18.7\n",
       "2  197503  Base Jan 1991=100                           18.8\n",
       "3  197504  Base Jan 1991=100                           19.6\n",
       "4  197505  Base Jan 1991=100                           19.8"
      ]
     },
     "execution_count": 4,
     "metadata": {},
     "output_type": "execute_result"
    }
   ],
   "source": [
    "irish_costs.head()"
   ]
  },
  {
   "cell_type": "markdown",
   "id": "328081c4",
   "metadata": {},
   "source": [
    "### Forecasting Irish construction costs"
   ]
  },
  {
   "cell_type": "code",
   "execution_count": 5,
   "id": "d7983663",
   "metadata": {},
   "outputs": [],
   "source": [
    "#Make the Month variable a datetime object\n",
    "for i in range(0,len(irish_costs.Month)):\n",
    "    irish_costs.Month[i] = pd.to_datetime(irish_costs.Month[i],format='%Y%m')"
   ]
  },
  {
   "cell_type": "code",
   "execution_count": 6,
   "id": "2a5573ce",
   "metadata": {},
   "outputs": [],
   "source": [
    "irish_costs[\"Month\"] = irish_costs[\"Month\"].values.astype('datetime64[M]')"
   ]
  },
  {
   "cell_type": "code",
   "execution_count": 7,
   "id": "ff65ff8e",
   "metadata": {},
   "outputs": [
    {
     "data": {
      "text/html": [
       "<div>\n",
       "<style scoped>\n",
       "    .dataframe tbody tr th:only-of-type {\n",
       "        vertical-align: middle;\n",
       "    }\n",
       "\n",
       "    .dataframe tbody tr th {\n",
       "        vertical-align: top;\n",
       "    }\n",
       "\n",
       "    .dataframe thead th {\n",
       "        text-align: right;\n",
       "    }\n",
       "</style>\n",
       "<table border=\"1\" class=\"dataframe\">\n",
       "  <thead>\n",
       "    <tr style=\"text-align: right;\">\n",
       "      <th></th>\n",
       "      <th>Month</th>\n",
       "      <th>UNIT</th>\n",
       "      <th>House Construction Cost Index</th>\n",
       "    </tr>\n",
       "  </thead>\n",
       "  <tbody>\n",
       "    <tr>\n",
       "      <th>0</th>\n",
       "      <td>1975-01-01</td>\n",
       "      <td>Base Jan 1991=100</td>\n",
       "      <td>18.3</td>\n",
       "    </tr>\n",
       "    <tr>\n",
       "      <th>1</th>\n",
       "      <td>1975-02-01</td>\n",
       "      <td>Base Jan 1991=100</td>\n",
       "      <td>18.7</td>\n",
       "    </tr>\n",
       "    <tr>\n",
       "      <th>2</th>\n",
       "      <td>1975-03-01</td>\n",
       "      <td>Base Jan 1991=100</td>\n",
       "      <td>18.8</td>\n",
       "    </tr>\n",
       "    <tr>\n",
       "      <th>3</th>\n",
       "      <td>1975-04-01</td>\n",
       "      <td>Base Jan 1991=100</td>\n",
       "      <td>19.6</td>\n",
       "    </tr>\n",
       "    <tr>\n",
       "      <th>4</th>\n",
       "      <td>1975-05-01</td>\n",
       "      <td>Base Jan 1991=100</td>\n",
       "      <td>19.8</td>\n",
       "    </tr>\n",
       "  </tbody>\n",
       "</table>\n",
       "</div>"
      ],
      "text/plain": [
       "       Month               UNIT  House Construction Cost Index\n",
       "0 1975-01-01  Base Jan 1991=100                           18.3\n",
       "1 1975-02-01  Base Jan 1991=100                           18.7\n",
       "2 1975-03-01  Base Jan 1991=100                           18.8\n",
       "3 1975-04-01  Base Jan 1991=100                           19.6\n",
       "4 1975-05-01  Base Jan 1991=100                           19.8"
      ]
     },
     "execution_count": 7,
     "metadata": {},
     "output_type": "execute_result"
    }
   ],
   "source": [
    "irish_costs.head()"
   ]
  },
  {
   "cell_type": "code",
   "execution_count": 8,
   "id": "e12e5e4a",
   "metadata": {},
   "outputs": [],
   "source": [
    "irish_costs.set_index('Month', inplace=True)"
   ]
  },
  {
   "cell_type": "code",
   "execution_count": 9,
   "id": "ba25d069",
   "metadata": {},
   "outputs": [
    {
     "data": {
      "text/html": [
       "<div>\n",
       "<style scoped>\n",
       "    .dataframe tbody tr th:only-of-type {\n",
       "        vertical-align: middle;\n",
       "    }\n",
       "\n",
       "    .dataframe tbody tr th {\n",
       "        vertical-align: top;\n",
       "    }\n",
       "\n",
       "    .dataframe thead th {\n",
       "        text-align: right;\n",
       "    }\n",
       "</style>\n",
       "<table border=\"1\" class=\"dataframe\">\n",
       "  <thead>\n",
       "    <tr style=\"text-align: right;\">\n",
       "      <th></th>\n",
       "      <th>UNIT</th>\n",
       "      <th>House Construction Cost Index</th>\n",
       "    </tr>\n",
       "    <tr>\n",
       "      <th>Month</th>\n",
       "      <th></th>\n",
       "      <th></th>\n",
       "    </tr>\n",
       "  </thead>\n",
       "  <tbody>\n",
       "    <tr>\n",
       "      <th>2017-04-01</th>\n",
       "      <td>Base Jan 1991=100</td>\n",
       "      <td>210.7</td>\n",
       "    </tr>\n",
       "    <tr>\n",
       "      <th>2017-05-01</th>\n",
       "      <td>Base Jan 1991=100</td>\n",
       "      <td>211.1</td>\n",
       "    </tr>\n",
       "    <tr>\n",
       "      <th>2017-06-01</th>\n",
       "      <td>Base Jan 1991=100</td>\n",
       "      <td>211.2</td>\n",
       "    </tr>\n",
       "    <tr>\n",
       "      <th>2017-07-01</th>\n",
       "      <td>Base Jan 1991=100</td>\n",
       "      <td>211.4</td>\n",
       "    </tr>\n",
       "    <tr>\n",
       "      <th>2017-08-01</th>\n",
       "      <td>Base Jan 1991=100</td>\n",
       "      <td>211.4</td>\n",
       "    </tr>\n",
       "  </tbody>\n",
       "</table>\n",
       "</div>"
      ],
      "text/plain": [
       "                         UNIT  House Construction Cost Index\n",
       "Month                                                       \n",
       "2017-04-01  Base Jan 1991=100                          210.7\n",
       "2017-05-01  Base Jan 1991=100                          211.1\n",
       "2017-06-01  Base Jan 1991=100                          211.2\n",
       "2017-07-01  Base Jan 1991=100                          211.4\n",
       "2017-08-01  Base Jan 1991=100                          211.4"
      ]
     },
     "execution_count": 9,
     "metadata": {},
     "output_type": "execute_result"
    }
   ],
   "source": [
    "irish_costs.tail()"
   ]
  },
  {
   "cell_type": "code",
   "execution_count": 10,
   "id": "071af883",
   "metadata": {},
   "outputs": [
    {
     "name": "stdout",
     "output_type": "stream",
     "text": [
      "<class 'pandas.core.frame.DataFrame'>\n",
      "DatetimeIndex: 512 entries, 1975-01-01 to 2017-08-01\n",
      "Data columns (total 2 columns):\n",
      " #   Column                         Non-Null Count  Dtype  \n",
      "---  ------                         --------------  -----  \n",
      " 0   UNIT                           512 non-null    object \n",
      " 1   House Construction Cost Index  512 non-null    float64\n",
      "dtypes: float64(1), object(1)\n",
      "memory usage: 12.0+ KB\n"
     ]
    }
   ],
   "source": [
    "irish_costs.info()"
   ]
  },
  {
   "cell_type": "code",
   "execution_count": 11,
   "id": "7cd1c636",
   "metadata": {},
   "outputs": [
    {
     "data": {
      "text/html": [
       "<div>\n",
       "<style scoped>\n",
       "    .dataframe tbody tr th:only-of-type {\n",
       "        vertical-align: middle;\n",
       "    }\n",
       "\n",
       "    .dataframe tbody tr th {\n",
       "        vertical-align: top;\n",
       "    }\n",
       "\n",
       "    .dataframe thead th {\n",
       "        text-align: right;\n",
       "    }\n",
       "</style>\n",
       "<table border=\"1\" class=\"dataframe\">\n",
       "  <thead>\n",
       "    <tr style=\"text-align: right;\">\n",
       "      <th></th>\n",
       "      <th>House Construction Cost Index</th>\n",
       "    </tr>\n",
       "  </thead>\n",
       "  <tbody>\n",
       "    <tr>\n",
       "      <th>count</th>\n",
       "      <td>512.000000</td>\n",
       "    </tr>\n",
       "    <tr>\n",
       "      <th>mean</th>\n",
       "      <td>126.052344</td>\n",
       "    </tr>\n",
       "    <tr>\n",
       "      <th>std</th>\n",
       "      <td>63.650513</td>\n",
       "    </tr>\n",
       "    <tr>\n",
       "      <th>min</th>\n",
       "      <td>18.300000</td>\n",
       "    </tr>\n",
       "    <tr>\n",
       "      <th>25%</th>\n",
       "      <td>78.800000</td>\n",
       "    </tr>\n",
       "    <tr>\n",
       "      <th>50%</th>\n",
       "      <td>115.900000</td>\n",
       "    </tr>\n",
       "    <tr>\n",
       "      <th>75%</th>\n",
       "      <td>198.275000</td>\n",
       "    </tr>\n",
       "    <tr>\n",
       "      <th>max</th>\n",
       "      <td>211.400000</td>\n",
       "    </tr>\n",
       "  </tbody>\n",
       "</table>\n",
       "</div>"
      ],
      "text/plain": [
       "       House Construction Cost Index\n",
       "count                     512.000000\n",
       "mean                      126.052344\n",
       "std                        63.650513\n",
       "min                        18.300000\n",
       "25%                        78.800000\n",
       "50%                       115.900000\n",
       "75%                       198.275000\n",
       "max                       211.400000"
      ]
     },
     "execution_count": 11,
     "metadata": {},
     "output_type": "execute_result"
    }
   ],
   "source": [
    "irish_costs.describe()"
   ]
  },
  {
   "cell_type": "code",
   "execution_count": 12,
   "id": "80d1655c",
   "metadata": {},
   "outputs": [
    {
     "data": {
      "image/png": "[encoded data removed]",
      "text/plain": [
       "<Figure size 640x480 with 1 Axes>"
      ]
     },
     "metadata": {},
     "output_type": "display_data"
    }
   ],
   "source": [
    "irish_costs.plot()\n",
    "plt.xlabel(\"Time (month)\")\n",
    "plt.ylabel(\"Construction Cost Index (ratio (base Jan 1991=100))\")\n",
    "plt.title(\"Irish House Construction Cost Index Q1 1975 - Q3 2017\")\n",
    "plt.xlim(min(irish_costs.index), max(irish_costs.index))\n",
    "plt.show()"
   ]
  },
  {
   "cell_type": "code",
   "execution_count": 13,
   "id": "c722bda9",
   "metadata": {},
   "outputs": [
    {
     "data": {
      "image/png": "[encoded data removed]",
      "text/plain": [
       "<Figure size 640x480 with 1 Axes>"
      ]
     },
     "metadata": {},
     "output_type": "display_data"
    }
   ],
   "source": [
    "irish_costs.hist()\n",
    "plt.ylabel(\"Frequency\")\n",
    "plt.xlabel(\"Construction Cost Index (ratio (base Jan 1991=100))\")\n",
    "plt.title(\"Histogram of Irish House Construction Cost Index Q1 1975 - Q3 2017\")\n",
    "plt.show()"
   ]
  },
  {
   "cell_type": "code",
   "execution_count": 14,
   "id": "4927761c",
   "metadata": {},
   "outputs": [
    {
     "data": {
      "image/png": "[encoded data removed]",
      "text/plain": [
       "<Figure size 640x480 with 1 Axes>"
      ]
     },
     "metadata": {},
     "output_type": "display_data"
    }
   ],
   "source": [
    "autocorrelation_plot(irish_costs[\"House Construction Cost Index\"])\n",
    "plt.show()"
   ]
  },
  {
   "cell_type": "markdown",
   "id": "64846394",
   "metadata": {},
   "source": [
    "### Time-series and autocorrelation plots"
   ]
  },
  {
   "cell_type": "code",
   "execution_count": 15,
   "id": "6999a7b5",
   "metadata": {},
   "outputs": [
    {
     "data": {
      "text/plain": [
       "<function matplotlib.pyplot.show(close=None, block=None)>"
      ]
     },
     "execution_count": 15,
     "metadata": {},
     "output_type": "execute_result"
    },
    {
     "data": {
      "image/png": "[encoded data removed]",
      "text/plain": [
       "<Figure size 1000x350 with 2 Axes>"
      ]
     },
     "metadata": {},
     "output_type": "display_data"
    }
   ],
   "source": [
    "#No differencing\n",
    "f = plt.figure(figsize=(10,3.5))\n",
    "ax1 = f.add_subplot(121)\n",
    "ax1.set_title(\"No differencing\")\n",
    "ax1.plot(irish_costs[\"House Construction Cost Index\"])\n",
    "\n",
    "ax2 = f.add_subplot(122)\n",
    "plot_acf(irish_costs[\"House Construction Cost Index\"], ax=ax2)\n",
    "\n",
    "plt.show"
   ]
  },
  {
   "cell_type": "code",
   "execution_count": 16,
   "id": "8abc3120",
   "metadata": {},
   "outputs": [
    {
     "data": {
      "text/plain": [
       "<function matplotlib.pyplot.show(close=None, block=None)>"
      ]
     },
     "execution_count": 16,
     "metadata": {},
     "output_type": "execute_result"
    },
    {
     "data": {
      "image/png": "[encoded data removed]",
      "text/plain": [
       "<Figure size 1000x350 with 2 Axes>"
      ]
     },
     "metadata": {},
     "output_type": "display_data"
    }
   ],
   "source": [
    "# 1st order differencing\n",
    "f = plt.figure(figsize=(10,3.5))\n",
    "ax1 = f.add_subplot(121)\n",
    "ax1.set_title(\"First order differencing\")\n",
    "ax1.plot(irish_costs[\"House Construction Cost Index\"].diff())\n",
    "\n",
    "ax2 = f.add_subplot(122)\n",
    "plot_acf(irish_costs[\"House Construction Cost Index\"].diff(), ax=ax2)\n",
    "\n",
    "plt.show"
   ]
  },
  {
   "cell_type": "code",
   "execution_count": 17,
   "id": "5db2e072",
   "metadata": {},
   "outputs": [
    {
     "data": {
      "text/plain": [
       "<function matplotlib.pyplot.show(close=None, block=None)>"
      ]
     },
     "execution_count": 17,
     "metadata": {},
     "output_type": "execute_result"
    },
    {
     "data": {
      "image/png": "[encoded data removed]",
      "text/plain": [
       "<Figure size 1000x350 with 2 Axes>"
      ]
     },
     "metadata": {},
     "output_type": "display_data"
    }
   ],
   "source": [
    "# 2nd order differencing\n",
    "f = plt.figure(figsize=(10,3.5))\n",
    "ax1 = f.add_subplot(121)\n",
    "ax1.set_title(\"First order differencing\")\n",
    "ax1.plot(irish_costs[\"House Construction Cost Index\"].diff().diff())\n",
    "\n",
    "ax2 = f.add_subplot(122)\n",
    "plot_acf(irish_costs[\"House Construction Cost Index\"].diff().diff(), ax=ax2)\n",
    "\n",
    "plt.show"
   ]
  },
  {
   "cell_type": "markdown",
   "id": "8e72f85f",
   "metadata": {},
   "source": [
    "### Dickey-Fuller Tests"
   ]
  },
  {
   "cell_type": "code",
   "execution_count": 18,
   "id": "a40ed83f",
   "metadata": {},
   "outputs": [
    {
     "name": "stdout",
     "output_type": "stream",
     "text": [
      "ADF Statistic: -1.334518628441303\n",
      "p-value: 0.6132358231873973\n",
      "Critical Values:\n",
      "\t1%: -3.443470002903981\n",
      "\t5%: -2.867326248740681\n",
      "\t10%: -2.569851849873108\n"
     ]
    }
   ],
   "source": [
    "#No differencing\n",
    "result = adfuller(irish_costs[\"House Construction Cost Index\"])\n",
    "\n",
    "print('ADF Statistic: {}'.format(result[0]))\n",
    "print('p-value: {}'.format(result[1]))\n",
    "print('Critical Values:')\n",
    "for key, value in result[4].items():\n",
    "    print('\\t{}: {}'.format(key, value))"
   ]
  },
  {
   "cell_type": "code",
   "execution_count": 19,
   "id": "62e504a7",
   "metadata": {},
   "outputs": [
    {
     "name": "stdout",
     "output_type": "stream",
     "text": [
      "ADF Statistic: -5.167997055093804\n",
      "p-value: 1.0215790494176466e-05\n",
      "Critical Values:\n",
      "\t1%: -3.443470002903981\n",
      "\t5%: -2.867326248740681\n",
      "\t10%: -2.569851849873108\n"
     ]
    }
   ],
   "source": [
    "# 1st order differencing\n",
    "\n",
    "result = adfuller(irish_costs[\"House Construction Cost Index\"].diff().dropna())\n",
    "\n",
    "print('ADF Statistic: {}'.format(result[0]))\n",
    "print('p-value: {}'.format(result[1]))\n",
    "print('Critical Values:')\n",
    "for key, value in result[4].items():\n",
    "    print('\\t{}: {}'.format(key, value))"
   ]
  },
  {
   "cell_type": "code",
   "execution_count": 20,
   "id": "aaa8399c",
   "metadata": {},
   "outputs": [
    {
     "name": "stdout",
     "output_type": "stream",
     "text": [
      "ADF Statistic: -8.381323059525727\n",
      "p-value: 2.505572471992689e-13\n",
      "Critical Values:\n",
      "\t1%: -3.4437660979098843\n",
      "\t5%: -2.8674565460819896\n",
      "\t10%: -2.569921291128696\n"
     ]
    }
   ],
   "source": [
    "# 2nd order differencing\n",
    "\n",
    "result = adfuller(irish_costs[\"House Construction Cost Index\"].diff().diff().dropna())\n",
    "\n",
    "print('ADF Statistic: {}'.format(result[0]))\n",
    "print('p-value: {}'.format(result[1]))\n",
    "print('Critical Values:')\n",
    "for key, value in result[4].items():\n",
    "    print('\\t{}: {}'.format(key, value))"
   ]
  },
  {
   "cell_type": "markdown",
   "id": "89fedaf0",
   "metadata": {},
   "source": [
    "### ARIMA Model fit"
   ]
  },
  {
   "cell_type": "code",
   "execution_count": 21,
   "id": "0ef5ac36",
   "metadata": {},
   "outputs": [
    {
     "name": "stdout",
     "output_type": "stream",
     "text": [
      "                                     SARIMAX Results                                     \n",
      "=========================================================================================\n",
      "Dep. Variable:     House Construction Cost Index   No. Observations:                  512\n",
      "Model:                           ARIMA(50, 2, 0)   Log Likelihood                -768.170\n",
      "Date:                           Sun, 14 May 2023   AIC                           1638.340\n",
      "Time:                                   18:27:56   BIC                           1854.295\n",
      "Sample:                               01-01-1975   HQIC                          1723.009\n",
      "                                    - 08-01-2017                                         \n",
      "Covariance Type:                             opg                                         \n",
      "==============================================================================\n",
      "                 coef    std err          z      P>|z|      [0.025      0.975]\n",
      "------------------------------------------------------------------------------\n",
      "ar.L1         -0.9770      0.122     -8.041      0.000      -1.215      -0.739\n",
      "ar.L2         -0.9507      0.153     -6.229      0.000      -1.250      -0.652\n",
      "ar.L3         -0.9599      0.166     -5.771      0.000      -1.286      -0.634\n",
      "ar.L4         -0.9483      0.222     -4.275      0.000      -1.383      -0.514\n",
      "ar.L5         -0.9111      0.241     -3.782      0.000      -1.383      -0.439\n",
      "ar.L6         -0.8402      0.246     -3.413      0.001      -1.323      -0.358\n",
      "ar.L7         -0.8143      0.265     -3.074      0.002      -1.333      -0.295\n",
      "ar.L8         -0.8381      0.273     -3.070      0.002      -1.373      -0.303\n",
      "ar.L9         -0.6836      0.277     -2.472      0.013      -1.226      -0.142\n",
      "ar.L10        -0.5669      0.273     -2.076      0.038      -1.102      -0.032\n",
      "ar.L11        -0.5682      0.283     -2.010      0.044      -1.122      -0.014\n",
      "ar.L12        -0.5281      0.283     -1.867      0.062      -1.083       0.026\n",
      "ar.L13        -0.4732      0.274     -1.729      0.084      -1.010       0.063\n",
      "ar.L14        -0.5108      0.302     -1.693      0.090      -1.102       0.080\n",
      "ar.L15        -0.4699      0.301     -1.560      0.119      -1.060       0.121\n",
      "ar.L16        -0.4514      0.285     -1.586      0.113      -1.009       0.107\n",
      "ar.L17        -0.4671      0.282     -1.655      0.098      -1.020       0.086\n",
      "ar.L18        -0.3752      0.278     -1.352      0.176      -0.919       0.169\n",
      "ar.L19        -0.4038      0.281     -1.437      0.151      -0.955       0.147\n",
      "ar.L20        -0.4161      0.300     -1.386      0.166      -1.005       0.173\n",
      "ar.L21        -0.3146      0.301     -1.045      0.296      -0.905       0.275\n",
      "ar.L22        -0.3109      0.309     -1.007      0.314      -0.916       0.294\n",
      "ar.L23        -0.3277      0.321     -1.020      0.308      -0.957       0.302\n",
      "ar.L24        -0.2650      0.318     -0.834      0.404      -0.888       0.358\n",
      "ar.L25        -0.2338      0.310     -0.755      0.450      -0.841       0.373\n",
      "ar.L26        -0.2066      0.300     -0.688      0.492      -0.795       0.382\n",
      "ar.L27        -0.1962      0.304     -0.645      0.519      -0.793       0.400\n",
      "ar.L28        -0.2247      0.298     -0.754      0.451      -0.809       0.359\n",
      "ar.L29        -0.1916      0.289     -0.664      0.507      -0.757       0.374\n",
      "ar.L30        -0.1762      0.292     -0.604      0.546      -0.748       0.396\n",
      "ar.L31        -0.2205      0.289     -0.764      0.445      -0.786       0.345\n",
      "ar.L32        -0.2204      0.302     -0.731      0.465      -0.812       0.371\n",
      "ar.L33        -0.2152      0.303     -0.711      0.477      -0.808       0.378\n",
      "ar.L34        -0.2458      0.296     -0.830      0.407      -0.826       0.335\n",
      "ar.L35        -0.2171      0.291     -0.747      0.455      -0.787       0.353\n",
      "ar.L36        -0.2407      0.287     -0.840      0.401      -0.803       0.321\n",
      "ar.L37        -0.2619      0.287     -0.914      0.361      -0.823       0.300\n",
      "ar.L38        -0.2868      0.295     -0.972      0.331      -0.865       0.291\n",
      "ar.L39        -0.2378      0.293     -0.813      0.416      -0.811       0.336\n",
      "ar.L40        -0.2500      0.282     -0.887      0.375      -0.802       0.302\n",
      "ar.L41        -0.1926      0.274     -0.703      0.482      -0.730       0.345\n",
      "ar.L42        -0.1935      0.260     -0.744      0.457      -0.704       0.317\n",
      "ar.L43        -0.1754      0.242     -0.726      0.468      -0.649       0.298\n",
      "ar.L44        -0.1885      0.236     -0.800      0.424      -0.650       0.273\n",
      "ar.L45        -0.1464      0.220     -0.666      0.506      -0.577       0.285\n",
      "ar.L46        -0.1472      0.184     -0.801      0.423      -0.507       0.213\n",
      "ar.L47        -0.1380      0.161     -0.859      0.391      -0.453       0.177\n",
      "ar.L48        -0.0541      0.148     -0.367      0.714      -0.343       0.235\n",
      "ar.L49        -0.0126      0.117     -0.108      0.914      -0.241       0.216\n",
      "ar.L50        -0.0147      0.065     -0.226      0.821      -0.142       0.112\n",
      "sigma2         1.1806      0.039     29.983      0.000       1.103       1.258\n",
      "===================================================================================\n",
      "Ljung-Box (L1) (Q):                   0.00   Jarque-Bera (JB):            166548.02\n",
      "Prob(Q):                              0.96   Prob(JB):                         0.00\n",
      "Heteroskedasticity (H):               1.20   Skew:                             4.38\n",
      "Prob(H) (two-sided):                  0.24   Kurtosis:                        91.10\n",
      "===================================================================================\n",
      "\n",
      "Warnings:\n",
      "[1] Covariance matrix calculated using the outer product of gradients (complex-step).\n"
     ]
    }
   ],
   "source": [
    "### Fit ARIMA Model\n",
    "\n",
    "model = ARIMA(irish_costs[\"House Construction Cost Index\"], order=(50,2,0))\n",
    "model_fit = model.fit()\n",
    "\n",
    "# summary of fit model\n",
    "print(model_fit.summary())"
   ]
  },
  {
   "cell_type": "code",
   "execution_count": 22,
   "id": "71ad8f71",
   "metadata": {},
   "outputs": [
    {
     "data": {
      "image/png": "[encoded data removed]",
      "text/plain": [
       "<Figure size 640x480 with 1 Axes>"
      ]
     },
     "metadata": {},
     "output_type": "display_data"
    },
    {
     "data": {
      "image/png": "[encoded data removed]",
      "text/plain": [
       "<Figure size 640x480 with 1 Axes>"
      ]
     },
     "metadata": {},
     "output_type": "display_data"
    },
    {
     "name": "stdout",
     "output_type": "stream",
     "text": [
      "                0\n",
      "count  512.000000\n",
      "mean     0.013493\n",
      "std      1.408703\n",
      "min     -9.659031\n",
      "25%     -0.354548\n",
      "50%     -0.129758\n",
      "75%      0.222038\n",
      "max     18.300000\n"
     ]
    }
   ],
   "source": [
    "# line plot of residuals\n",
    "residuals = DataFrame(model_fit.resid)\n",
    "residuals.plot()\n",
    "plt.show()\n",
    "\n",
    "#density plot of residuals\n",
    "residuals.plot(kind='kde')\n",
    "plt.show()\n",
    "\n",
    "#summary stats of residuals showing mean ~= 0.\n",
    "print(residuals.describe())"
   ]
  },
  {
   "cell_type": "markdown",
   "id": "77389f42",
   "metadata": {},
   "source": [
    "### Time-series cross-validation"
   ]
  },
  {
   "cell_type": "code",
   "execution_count": 23,
   "id": "6126d146",
   "metadata": {},
   "outputs": [
    {
     "name": "stderr",
     "output_type": "stream",
     "text": [
      "/home/ciara/anaconda3/lib/python3.9/site-packages/statsmodels/base/model.py:604: ConvergenceWarning: Maximum Likelihood optimization failed to converge. Check mle_retvals\n",
      "  warnings.warn(\"Maximum Likelihood optimization failed to \"\n"
     ]
    },
    {
     "name": "stdout",
     "output_type": "stream",
     "text": [
      "[12.930376842652896, 13.480251902508249, 3.1689753654521886, 3.0741926849590127, 2.1389116704514657, 17.329695123874725, 13.613194682773107, 5.004996265481262, 7.649558183510124, 1.5838632274312259]\n",
      "7.997401594909425\n"
     ]
    }
   ],
   "source": [
    "tscv = TimeSeriesSplit(n_splits = 10)\n",
    "rmse = []\n",
    "for train_index, test_index in tscv.split(irish_costs):\n",
    "    cv_train, cv_test = irish_costs.iloc[train_index], irish_costs.iloc[test_index]\n",
    "    model = ARIMA(cv_train[\"House Construction Cost Index\"], order=(50, 2, 0)).fit()\n",
    "    predictions = model.predict(cv_test.index.values[0], cv_test.index.values[-1])\n",
    "    true_values = cv_test[\"House Construction Cost Index\"]\n",
    "    rmse.append(np.sqrt(mean_squared_error(true_values, predictions)))\n",
    "\n",
    "print(rmse)\n",
    "\n",
    "print(np.mean(rmse))"
   ]
  },
  {
   "cell_type": "code",
   "execution_count": 24,
   "id": "dfe96548",
   "metadata": {},
   "outputs": [
    {
     "name": "stdout",
     "output_type": "stream",
     "text": [
      "ARIMA (order=(p,d,q))      RMSE\n",
      "-----------------------  ------\n",
      "ARIMA(order=(50,1,0))       8.5\n",
      "ARIMA(order=(50,1,1))       8.7\n",
      "ARIMA(order=(50,2,0))       8\n",
      "ARIMA(order=(50,2,1))       9\n",
      "ARIMA(order=(30,2,0))       9.1\n",
      "ARIMA(order=(40,2,0))      11.2\n"
     ]
    }
   ],
   "source": [
    "#create data\n",
    "data = [[\"ARIMA(order=(50,1,0))\", 8.5],\n",
    "        [\"ARIMA(order=(50,1,1))\", 8.7],\n",
    "        [\"ARIMA(order=(50,2,0))\", 8.0], \n",
    "        [\"ARIMA(order=(50,2,1))\", 9.0], \n",
    "        [\"ARIMA(order=(30,2,0))\", 9.1], \n",
    "        [\"ARIMA(order=(40,2,0))\", 11.2]]\n",
    "  \n",
    "#define header names\n",
    "col_names = [\"ARIMA (order=(p,d,q))\", \"RMSE\"]\n",
    "  \n",
    "#display table\n",
    "print(tabulate(data, headers=col_names))"
   ]
  },
  {
   "cell_type": "code",
   "execution_count": 25,
   "id": "61e3d0ac",
   "metadata": {},
   "outputs": [
    {
     "data": {
      "text/plain": [
       "(Month\n",
       " 1975-01-01     18.3\n",
       " 1975-02-01     18.7\n",
       " 1975-03-01     18.8\n",
       " 1975-04-01     19.6\n",
       " 1975-05-01     19.8\n",
       "               ...  \n",
       " 2002-09-01    173.9\n",
       " 2002-10-01    173.9\n",
       " 2002-11-01    174.0\n",
       " 2002-12-01    174.1\n",
       " 2003-01-01    174.2\n",
       " Name: House Construction Cost Index, Length: 337, dtype: float64,\n",
       " Month\n",
       " 2003-02-01    174.5\n",
       " 2003-03-01    174.5\n",
       " 2003-04-01    177.3\n",
       " 2003-05-01    177.3\n",
       " 2003-06-01    177.4\n",
       "               ...  \n",
       " 2017-04-01    210.7\n",
       " 2017-05-01    211.1\n",
       " 2017-06-01    211.2\n",
       " 2017-07-01    211.4\n",
       " 2017-08-01    211.4\n",
       " Name: House Construction Cost Index, Length: 175, dtype: float64)"
      ]
     },
     "execution_count": 25,
     "metadata": {},
     "output_type": "execute_result"
    }
   ],
   "source": [
    "# split into train and test sets\n",
    "X = irish_costs[\"House Construction Cost Index\"]\n",
    "size = int(len(X) * 0.66)\n",
    "train, test = X[0:size], X[size:len(X)]\n",
    "history = [x for x in train]\n",
    "predictions = list()\n",
    "\n",
    "train, test"
   ]
  },
  {
   "cell_type": "code",
   "execution_count": 26,
   "id": "630c51d2",
   "metadata": {},
   "outputs": [],
   "source": [
    "model_test = ARIMA(history, order=(50,2,0))\n",
    "model_test_fit = model_test.fit()\n",
    "output_test = model_test_fit.forecast(len(test))"
   ]
  },
  {
   "cell_type": "code",
   "execution_count": 27,
   "id": "89da2184",
   "metadata": {},
   "outputs": [
    {
     "name": "stdout",
     "output_type": "stream",
     "text": [
      "predicted=173.419990, expected=174.500000\n",
      "predicted=173.061709, expected=174.500000\n",
      "predicted=175.206673, expected=177.300000\n",
      "predicted=176.123641, expected=177.300000\n",
      "predicted=175.669016, expected=177.400000\n",
      "predicted=176.648465, expected=177.100000\n",
      "predicted=176.252833, expected=177.200000\n",
      "predicted=177.784443, expected=177.200000\n",
      "predicted=178.837359, expected=177.200000\n",
      "predicted=178.617281, expected=177.200000\n",
      "predicted=178.447132, expected=177.200000\n",
      "predicted=180.569948, expected=179.600000\n",
      "predicted=179.738072, expected=179.700000\n",
      "predicted=182.402906, expected=179.900000\n",
      "predicted=182.750936, expected=179.900000\n",
      "predicted=183.068559, expected=180.000000\n",
      "predicted=183.835225, expected=180.200000\n",
      "predicted=185.252858, expected=182.100000\n",
      "predicted=185.210915, expected=182.200000\n",
      "predicted=186.111826, expected=182.200000\n",
      "predicted=190.113084, expected=183.900000\n",
      "predicted=191.809753, expected=184.200000\n",
      "predicted=192.418877, expected=184.200000\n",
      "predicted=194.197120, expected=184.700000\n",
      "predicted=193.944463, expected=184.800000\n",
      "predicted=195.002569, expected=184.900000\n",
      "predicted=196.811086, expected=186.500000\n",
      "predicted=196.811125, expected=186.600000\n",
      "predicted=197.499932, expected=186.600000\n",
      "predicted=199.640571, expected=186.700000\n",
      "predicted=201.035131, expected=186.900000\n",
      "predicted=202.530118, expected=186.900000\n",
      "predicted=204.437628, expected=189.500000\n",
      "predicted=204.692740, expected=189.400000\n",
      "predicted=205.709317, expected=189.700000\n",
      "predicted=206.599713, expected=189.900000\n",
      "predicted=206.830184, expected=190.100000\n",
      "predicted=207.388837, expected=190.600000\n",
      "predicted=208.645453, expected=194.000000\n",
      "predicted=208.700941, expected=194.200000\n",
      "predicted=209.485326, expected=194.300000\n",
      "predicted=211.348647, expected=194.400000\n",
      "predicted=212.178112, expected=194.500000\n",
      "predicted=212.757818, expected=194.600000\n",
      "predicted=213.798720, expected=197.700000\n",
      "predicted=213.663307, expected=198.000000\n",
      "predicted=214.688437, expected=198.100000\n",
      "predicted=215.299896, expected=198.800000\n",
      "predicted=215.262682, expected=198.800000\n",
      "predicted=215.427567, expected=199.400000\n",
      "predicted=216.798724, expected=200.000000\n",
      "predicted=217.305917, expected=200.100000\n",
      "predicted=218.387354, expected=200.300000\n",
      "predicted=218.762980, expected=203.700000\n",
      "predicted=219.204435, expected=203.600000\n",
      "predicted=220.132572, expected=203.700000\n",
      "predicted=221.394211, expected=203.800000\n",
      "predicted=221.427307, expected=203.800000\n",
      "predicted=221.984692, expected=204.200000\n",
      "predicted=223.056654, expected=207.400000\n",
      "predicted=223.280656, expected=208.200000\n",
      "predicted=224.723610, expected=208.600000\n",
      "predicted=225.868938, expected=208.900000\n",
      "predicted=225.979893, expected=209.400000\n",
      "predicted=227.153656, expected=209.900000\n",
      "predicted=228.190099, expected=210.400000\n",
      "predicted=228.505939, expected=210.400000\n",
      "predicted=229.602860, expected=210.500000\n",
      "predicted=231.055202, expected=210.100000\n",
      "predicted=231.935341, expected=209.900000\n",
      "predicted=233.148160, expected=209.300000\n",
      "predicted=234.336980, expected=208.000000\n",
      "predicted=234.740581, expected=207.300000\n",
      "predicted=235.839109, expected=206.800000\n",
      "predicted=236.958256, expected=206.500000\n",
      "predicted=237.477755, expected=206.500000\n",
      "predicted=238.402732, expected=206.000000\n",
      "predicted=239.753550, expected=206.000000\n",
      "predicted=240.446042, expected=206.000000\n",
      "predicted=241.868648, expected=206.100000\n",
      "predicted=243.119263, expected=206.200000\n",
      "predicted=243.713972, expected=206.200000\n",
      "predicted=244.785337, expected=206.200000\n",
      "predicted=245.822675, expected=206.900000\n",
      "predicted=246.101665, expected=207.200000\n",
      "predicted=247.208305, expected=207.300000\n",
      "predicted=248.145403, expected=207.900000\n",
      "predicted=248.713021, expected=208.700000\n",
      "predicted=249.611139, expected=208.600000\n",
      "predicted=250.788278, expected=209.400000\n",
      "predicted=251.442237, expected=209.600000\n",
      "predicted=252.569613, expected=209.500000\n",
      "predicted=253.390946, expected=209.500000\n",
      "predicted=253.844971, expected=209.500000\n",
      "predicted=254.743204, expected=209.800000\n",
      "predicted=255.658927, expected=210.200000\n",
      "predicted=256.006684, expected=210.500000\n",
      "predicted=256.800187, expected=200.700000\n",
      "predicted=257.631878, expected=201.000000\n",
      "predicted=258.259545, expected=201.200000\n",
      "predicted=259.396947, expected=201.400000\n",
      "predicted=260.095997, expected=201.500000\n",
      "predicted=260.577477, expected=201.900000\n",
      "predicted=261.632117, expected=202.100000\n",
      "predicted=262.523030, expected=202.000000\n",
      "predicted=263.054304, expected=202.200000\n",
      "predicted=263.891638, expected=202.300000\n",
      "predicted=264.637214, expected=202.500000\n",
      "predicted=265.203842, expected=202.600000\n",
      "predicted=266.326662, expected=202.700000\n",
      "predicted=267.277794, expected=203.400000\n",
      "predicted=267.795324, expected=203.600000\n",
      "predicted=268.859783, expected=203.600000\n",
      "predicted=269.720994, expected=204.100000\n",
      "predicted=270.325023, expected=204.100000\n",
      "predicted=271.353157, expected=203.700000\n",
      "predicted=272.306663, expected=203.800000\n",
      "predicted=272.975999, expected=204.000000\n",
      "predicted=274.163056, expected=204.200000\n",
      "predicted=275.030366, expected=204.100000\n",
      "predicted=275.737062, expected=204.200000\n",
      "predicted=276.804167, expected=204.300000\n",
      "predicted=277.692153, expected=204.500000\n",
      "predicted=278.337100, expected=204.500000\n",
      "predicted=279.419855, expected=204.800000\n",
      "predicted=280.297396, expected=204.800000\n",
      "predicted=281.085227, expected=205.000000\n",
      "predicted=282.201913, expected=205.100000\n",
      "predicted=283.178504, expected=205.400000\n",
      "predicted=283.895283, expected=205.400000\n",
      "predicted=284.999615, expected=204.700000\n",
      "predicted=285.841385, expected=204.900000\n",
      "predicted=286.481888, expected=205.400000\n",
      "predicted=287.494088, expected=205.400000\n",
      "predicted=288.370297, expected=205.600000\n",
      "predicted=289.069101, expected=205.900000\n",
      "predicted=290.089226, expected=206.000000\n",
      "predicted=290.933283, expected=206.000000\n",
      "predicted=291.692108, expected=206.600000\n",
      "predicted=292.768382, expected=206.400000\n",
      "predicted=293.574199, expected=206.700000\n",
      "predicted=294.254928, expected=206.500000\n",
      "predicted=295.205528, expected=206.200000\n",
      "predicted=296.003727, expected=206.200000\n",
      "predicted=296.692032, expected=206.000000\n",
      "predicted=297.616381, expected=206.500000\n",
      "predicted=298.362375, expected=206.800000\n",
      "predicted=299.092187, expected=207.200000\n",
      "predicted=300.123890, expected=207.600000\n",
      "predicted=300.899863, expected=207.400000\n",
      "predicted=301.574708, expected=207.400000\n",
      "predicted=302.572600, expected=207.300000\n",
      "predicted=303.349349, expected=207.200000\n",
      "predicted=304.092381, expected=207.600000\n",
      "predicted=305.012994, expected=207.400000\n",
      "predicted=305.735731, expected=207.400000\n",
      "predicted=306.441912, expected=207.100000\n",
      "predicted=307.463491, expected=207.200000\n",
      "predicted=308.252726, expected=207.800000\n",
      "predicted=309.019866, expected=208.200000\n",
      "predicted=309.981712, expected=208.200000\n",
      "predicted=310.779816, expected=208.400000\n",
      "predicted=311.533354, expected=208.600000\n",
      "predicted=312.517217, expected=208.800000\n",
      "predicted=313.301390, expected=208.900000\n",
      "predicted=314.089863, expected=209.100000\n",
      "predicted=315.087830, expected=209.100000\n",
      "predicted=315.897939, expected=209.400000\n",
      "predicted=316.687875, expected=209.500000\n",
      "predicted=317.702685, expected=210.500000\n",
      "predicted=318.493245, expected=210.700000\n",
      "predicted=319.283582, expected=211.100000\n",
      "predicted=320.269100, expected=211.200000\n",
      "predicted=321.069475, expected=211.400000\n",
      "predicted=321.893074, expected=211.400000\n"
     ]
    }
   ],
   "source": [
    "predictions=[]\n",
    "# walk-forward validation\n",
    "for t in range(len(test)):\n",
    "    yhat = output_test[t]\n",
    "    predictions.append(yhat)\n",
    "    obs = test[test.index[t]]\n",
    "    history.append(obs)\n",
    "    print('predicted=%f, expected=%f' % (yhat, obs))"
   ]
  },
  {
   "cell_type": "code",
   "execution_count": 28,
   "id": "12be106e",
   "metadata": {},
   "outputs": [
    {
     "data": {
      "text/plain": [
       "(Month\n",
       " 2003-02-01    174.5\n",
       " 2003-03-01    174.5\n",
       " 2003-04-01    177.3\n",
       " 2003-05-01    177.3\n",
       " 2003-06-01    177.4\n",
       " Name: House Construction Cost Index, dtype: float64,\n",
       " Month\n",
       " 2017-04-01    210.7\n",
       " 2017-05-01    211.1\n",
       " 2017-06-01    211.2\n",
       " 2017-07-01    211.4\n",
       " 2017-08-01    211.4\n",
       " Name: House Construction Cost Index, dtype: float64)"
      ]
     },
     "execution_count": 28,
     "metadata": {},
     "output_type": "execute_result"
    }
   ],
   "source": [
    "test.head(), test.tail()"
   ]
  },
  {
   "cell_type": "code",
   "execution_count": 29,
   "id": "493051aa",
   "metadata": {
    "scrolled": true
   },
   "outputs": [],
   "source": [
    "start_dt = date(2003, 2, 1)\n",
    "end_dt = date(2017, 8, 1)\n",
    "\n",
    "dates = []\n",
    "\n",
    "while start_dt <= end_dt:\n",
    "    # add current date to list by converting  it to iso format\n",
    "    dates.append(start_dt.isoformat())\n",
    "    # increment start date by timedelta\n",
    "    start_dt += relativedelta(months=1)"
   ]
  },
  {
   "cell_type": "code",
   "execution_count": 30,
   "id": "b8c03d55",
   "metadata": {},
   "outputs": [
    {
     "data": {
      "text/plain": [
       "[173.41998957356375,\n",
       " 173.06170850887912,\n",
       " 175.20667342882498,\n",
       " 176.1236410751471,\n",
       " 175.66901609968303,\n",
       " 176.64846466954683,\n",
       " 176.25283300236967,\n",
       " 177.78444251125111,\n",
       " 178.8373589776298,\n",
       " 178.61728091999353,\n",
       " 178.44713182970577,\n",
       " 180.5699483133747,\n",
       " 179.73807243235794,\n",
       " 182.40290573281334,\n",
       " 182.75093563734296,\n",
       " 183.0685588958751,\n",
       " 183.8352248101858,\n",
       " 185.2528577045593,\n",
       " 185.210915305602,\n",
       " 186.11182559945422,\n",
       " 190.11308433281621,\n",
       " 191.8097533041046,\n",
       " 192.41887686778165,\n",
       " 194.19712036379042,\n",
       " 193.94446292025813,\n",
       " 195.00256895714975,\n",
       " 196.8110862736304,\n",
       " 196.81112547257592,\n",
       " 197.49993241663194,\n",
       " 199.6405713398549,\n",
       " 201.03513095782273,\n",
       " 202.5301180921805,\n",
       " 204.43762784177696,\n",
       " 204.69274049483735,\n",
       " 205.70931657695672,\n",
       " 206.59971341483987,\n",
       " 206.83018396229528,\n",
       " 207.38883664202842,\n",
       " 208.64545338931674,\n",
       " 208.70094132026028,\n",
       " 209.48532641703056,\n",
       " 211.34864670735513,\n",
       " 212.1781117165846,\n",
       " 212.75781779411585,\n",
       " 213.79871968588063,\n",
       " 213.66330658585812,\n",
       " 214.68843669458172,\n",
       " 215.2998963564122,\n",
       " 215.26268205425325,\n",
       " 215.4275673760632,\n",
       " 216.79872415552464,\n",
       " 217.30591739468503,\n",
       " 218.38735355904103,\n",
       " 218.76297982072367,\n",
       " 219.20443483744373,\n",
       " 220.1325721025311,\n",
       " 221.39421072587083,\n",
       " 221.4273074080208,\n",
       " 221.98469187719473,\n",
       " 223.05665395011923,\n",
       " 223.28065598664023,\n",
       " 224.72361008787763,\n",
       " 225.86893757836506,\n",
       " 225.9798929691214,\n",
       " 227.15365627439593,\n",
       " 228.19009930479285,\n",
       " 228.50593916577915,\n",
       " 229.6028595880596,\n",
       " 231.0552022586294,\n",
       " 231.9353408629607,\n",
       " 233.14816036355862,\n",
       " 234.33697956566544,\n",
       " 234.74058101271132,\n",
       " 235.83910884792814,\n",
       " 236.9582558463598,\n",
       " 237.47775515993666,\n",
       " 238.4027318198565,\n",
       " 239.75354966803337,\n",
       " 240.4460421151543,\n",
       " 241.8686479462741,\n",
       " 243.11926342480533,\n",
       " 243.7139715044827,\n",
       " 244.7853370433205,\n",
       " 245.82267517295554,\n",
       " 246.10166527591966,\n",
       " 247.20830465539223,\n",
       " 248.1454034439835,\n",
       " 248.71302078980278,\n",
       " 249.61113865332294,\n",
       " 250.78827828025774,\n",
       " 251.44223670322242,\n",
       " 252.56961326221605,\n",
       " 253.3909460671737,\n",
       " 253.84497145584166,\n",
       " 254.74320429429298,\n",
       " 255.65892650565388,\n",
       " 256.0066843640076,\n",
       " 256.8001869266434,\n",
       " 257.6318776342145,\n",
       " 258.259544926233,\n",
       " 259.3969465104513,\n",
       " 260.09599702461344,\n",
       " 260.5774770786764,\n",
       " 261.63211707025016,\n",
       " 262.5230300650331,\n",
       " 263.054303714056,\n",
       " 263.8916382059593,\n",
       " 264.6372141789002,\n",
       " 265.2038416766271,\n",
       " 266.3266621096488,\n",
       " 267.2777938764363,\n",
       " 267.7953236960136,\n",
       " 268.8597829520659,\n",
       " 269.72099356237527,\n",
       " 270.3250228790491,\n",
       " 271.353156614333,\n",
       " 272.3066632482432,\n",
       " 272.9759992219117,\n",
       " 274.1630559944776,\n",
       " 275.03036570558675,\n",
       " 275.73706245853367,\n",
       " 276.80416712849456,\n",
       " 277.69215320189807,\n",
       " 278.33709986278666,\n",
       " 279.4198553846697,\n",
       " 280.2973964649723,\n",
       " 281.085227136116,\n",
       " 282.2019129379488,\n",
       " 283.1785042480792,\n",
       " 283.8952829326719,\n",
       " 284.9996152587933,\n",
       " 285.84138525440085,\n",
       " 286.48188755662966,\n",
       " 287.49408773302554,\n",
       " 288.3702966615455,\n",
       " 289.0691005722744,\n",
       " 290.08922561951556,\n",
       " 290.93328348461534,\n",
       " 291.6921079172345,\n",
       " 292.7683818628934,\n",
       " 293.57419934858035,\n",
       " 294.2549280414354,\n",
       " 295.2055277204515,\n",
       " 296.00372674702834,\n",
       " 296.69203214745625,\n",
       " 297.6163809799494,\n",
       " 298.3623754148283,\n",
       " 299.0921874251586,\n",
       " 300.1238898486413,\n",
       " 300.89986332565604,\n",
       " 301.5747075881353,\n",
       " 302.5725999093288,\n",
       " 303.34934923069756,\n",
       " 304.0923806457096,\n",
       " 305.01299369201126,\n",
       " 305.7357311471992,\n",
       " 306.44191191445105,\n",
       " 307.4634914769147,\n",
       " 308.25272589191616,\n",
       " 309.0198655244707,\n",
       " 309.9817122340699,\n",
       " 310.77981580836996,\n",
       " 311.53335355226204,\n",
       " 312.51721658254536,\n",
       " 313.30139036779894,\n",
       " 314.0898634924574,\n",
       " 315.08783020248075,\n",
       " 315.8979394013014,\n",
       " 316.6878748599131,\n",
       " 317.7026852224272,\n",
       " 318.49324501317017,\n",
       " 319.2835816154658,\n",
       " 320.26910047963366,\n",
       " 321.069475248022,\n",
       " 321.8930740311315]"
      ]
     },
     "execution_count": 30,
     "metadata": {},
     "output_type": "execute_result"
    }
   ],
   "source": [
    "predictions"
   ]
  },
  {
   "cell_type": "code",
   "execution_count": 31,
   "id": "d5f1f85e",
   "metadata": {},
   "outputs": [
    {
     "data": {
      "text/plain": [
       "(175, 175)"
      ]
     },
     "execution_count": 31,
     "metadata": {},
     "output_type": "execute_result"
    }
   ],
   "source": [
    "len(predictions), len(test)"
   ]
  },
  {
   "cell_type": "code",
   "execution_count": 32,
   "id": "18bdbbf7",
   "metadata": {},
   "outputs": [],
   "source": [
    "predictions_df = pd.DataFrame(list(zip(dates,predictions)), columns = [\"Month\", \"Predicted Index\"])"
   ]
  },
  {
   "cell_type": "code",
   "execution_count": 33,
   "id": "3b7d4890",
   "metadata": {},
   "outputs": [],
   "source": [
    "predictions_df[\"Month\"] = predictions_df[\"Month\"].values.astype('datetime64[M]')"
   ]
  },
  {
   "cell_type": "code",
   "execution_count": 34,
   "id": "cb7c1181",
   "metadata": {},
   "outputs": [],
   "source": [
    "predictions_df.set_index('Month', inplace=True)"
   ]
  },
  {
   "cell_type": "code",
   "execution_count": 35,
   "id": "0b465ada",
   "metadata": {},
   "outputs": [
    {
     "data": {
      "text/html": [
       "<div>\n",
       "<style scoped>\n",
       "    .dataframe tbody tr th:only-of-type {\n",
       "        vertical-align: middle;\n",
       "    }\n",
       "\n",
       "    .dataframe tbody tr th {\n",
       "        vertical-align: top;\n",
       "    }\n",
       "\n",
       "    .dataframe thead th {\n",
       "        text-align: right;\n",
       "    }\n",
       "</style>\n",
       "<table border=\"1\" class=\"dataframe\">\n",
       "  <thead>\n",
       "    <tr style=\"text-align: right;\">\n",
       "      <th></th>\n",
       "      <th>Predicted Index</th>\n",
       "    </tr>\n",
       "    <tr>\n",
       "      <th>Month</th>\n",
       "      <th></th>\n",
       "    </tr>\n",
       "  </thead>\n",
       "  <tbody>\n",
       "    <tr>\n",
       "      <th>2003-02-01</th>\n",
       "      <td>173.419990</td>\n",
       "    </tr>\n",
       "    <tr>\n",
       "      <th>2003-03-01</th>\n",
       "      <td>173.061709</td>\n",
       "    </tr>\n",
       "    <tr>\n",
       "      <th>2003-04-01</th>\n",
       "      <td>175.206673</td>\n",
       "    </tr>\n",
       "    <tr>\n",
       "      <th>2003-05-01</th>\n",
       "      <td>176.123641</td>\n",
       "    </tr>\n",
       "    <tr>\n",
       "      <th>2003-06-01</th>\n",
       "      <td>175.669016</td>\n",
       "    </tr>\n",
       "    <tr>\n",
       "      <th>...</th>\n",
       "      <td>...</td>\n",
       "    </tr>\n",
       "    <tr>\n",
       "      <th>2017-04-01</th>\n",
       "      <td>318.493245</td>\n",
       "    </tr>\n",
       "    <tr>\n",
       "      <th>2017-05-01</th>\n",
       "      <td>319.283582</td>\n",
       "    </tr>\n",
       "    <tr>\n",
       "      <th>2017-06-01</th>\n",
       "      <td>320.269100</td>\n",
       "    </tr>\n",
       "    <tr>\n",
       "      <th>2017-07-01</th>\n",
       "      <td>321.069475</td>\n",
       "    </tr>\n",
       "    <tr>\n",
       "      <th>2017-08-01</th>\n",
       "      <td>321.893074</td>\n",
       "    </tr>\n",
       "  </tbody>\n",
       "</table>\n",
       "<p>175 rows × 1 columns</p>\n",
       "</div>"
      ],
      "text/plain": [
       "            Predicted Index\n",
       "Month                      \n",
       "2003-02-01       173.419990\n",
       "2003-03-01       173.061709\n",
       "2003-04-01       175.206673\n",
       "2003-05-01       176.123641\n",
       "2003-06-01       175.669016\n",
       "...                     ...\n",
       "2017-04-01       318.493245\n",
       "2017-05-01       319.283582\n",
       "2017-06-01       320.269100\n",
       "2017-07-01       321.069475\n",
       "2017-08-01       321.893074\n",
       "\n",
       "[175 rows x 1 columns]"
      ]
     },
     "execution_count": 35,
     "metadata": {},
     "output_type": "execute_result"
    }
   ],
   "source": [
    "predictions_df"
   ]
  },
  {
   "cell_type": "code",
   "execution_count": 36,
   "id": "d1e4ef5a",
   "metadata": {},
   "outputs": [
    {
     "data": {
      "image/png": "[encoded data removed]",
      "text/plain": [
       "<Figure size 640x480 with 1 Axes>"
      ]
     },
     "metadata": {},
     "output_type": "display_data"
    }
   ],
   "source": [
    "plt.plot(test)\n",
    "plt.plot(predictions_df, color='red')\n",
    "plt.show()"
   ]
  },
  {
   "cell_type": "markdown",
   "id": "7f7931fd",
   "metadata": {},
   "source": [
    "### Forecast costs beyond August 2017"
   ]
  },
  {
   "cell_type": "code",
   "execution_count": 37,
   "id": "e9f92264",
   "metadata": {},
   "outputs": [
    {
     "data": {
      "text/plain": [
       "2017-09-01    211.542202\n",
       "2017-10-01    211.707108\n",
       "2017-11-01    211.882778\n",
       "2017-12-01    212.001782\n",
       "2018-01-01    212.285052\n",
       "Freq: MS, Name: predicted_mean, dtype: float64"
      ]
     },
     "execution_count": 37,
     "metadata": {},
     "output_type": "execute_result"
    }
   ],
   "source": [
    "# Irish social housing construction data goes to Q4 (december) 2021\n",
    "# To forecast the cost data until this date requires 4 years ad 4 months of predictions (Dec. 2021 - Aug. 2017)\n",
    "output = model_fit.forecast(4 * 12 + 4)\n",
    "output.head()"
   ]
  },
  {
   "cell_type": "code",
   "execution_count": 38,
   "id": "a0e441f1",
   "metadata": {},
   "outputs": [],
   "source": [
    "future_predictions = output.to_frame()"
   ]
  },
  {
   "cell_type": "code",
   "execution_count": 39,
   "id": "1d9e44de",
   "metadata": {},
   "outputs": [
    {
     "data": {
      "text/html": [
       "<div>\n",
       "<style scoped>\n",
       "    .dataframe tbody tr th:only-of-type {\n",
       "        vertical-align: middle;\n",
       "    }\n",
       "\n",
       "    .dataframe tbody tr th {\n",
       "        vertical-align: top;\n",
       "    }\n",
       "\n",
       "    .dataframe thead th {\n",
       "        text-align: right;\n",
       "    }\n",
       "</style>\n",
       "<table border=\"1\" class=\"dataframe\">\n",
       "  <thead>\n",
       "    <tr style=\"text-align: right;\">\n",
       "      <th></th>\n",
       "      <th>predicted_mean</th>\n",
       "    </tr>\n",
       "  </thead>\n",
       "  <tbody>\n",
       "    <tr>\n",
       "      <th>2017-09-01</th>\n",
       "      <td>211.542202</td>\n",
       "    </tr>\n",
       "    <tr>\n",
       "      <th>2017-10-01</th>\n",
       "      <td>211.707108</td>\n",
       "    </tr>\n",
       "    <tr>\n",
       "      <th>2017-11-01</th>\n",
       "      <td>211.882778</td>\n",
       "    </tr>\n",
       "    <tr>\n",
       "      <th>2017-12-01</th>\n",
       "      <td>212.001782</td>\n",
       "    </tr>\n",
       "    <tr>\n",
       "      <th>2018-01-01</th>\n",
       "      <td>212.285052</td>\n",
       "    </tr>\n",
       "  </tbody>\n",
       "</table>\n",
       "</div>"
      ],
      "text/plain": [
       "            predicted_mean\n",
       "2017-09-01      211.542202\n",
       "2017-10-01      211.707108\n",
       "2017-11-01      211.882778\n",
       "2017-12-01      212.001782\n",
       "2018-01-01      212.285052"
      ]
     },
     "execution_count": 39,
     "metadata": {},
     "output_type": "execute_result"
    }
   ],
   "source": [
    "future_predictions.head()"
   ]
  },
  {
   "cell_type": "code",
   "execution_count": 40,
   "id": "65f15523",
   "metadata": {},
   "outputs": [],
   "source": [
    "future_predictions.columns=['House Construction Cost Index']"
   ]
  },
  {
   "cell_type": "code",
   "execution_count": 41,
   "id": "445d36d1",
   "metadata": {},
   "outputs": [
    {
     "data": {
      "text/html": [
       "<div>\n",
       "<style scoped>\n",
       "    .dataframe tbody tr th:only-of-type {\n",
       "        vertical-align: middle;\n",
       "    }\n",
       "\n",
       "    .dataframe tbody tr th {\n",
       "        vertical-align: top;\n",
       "    }\n",
       "\n",
       "    .dataframe thead th {\n",
       "        text-align: right;\n",
       "    }\n",
       "</style>\n",
       "<table border=\"1\" class=\"dataframe\">\n",
       "  <thead>\n",
       "    <tr style=\"text-align: right;\">\n",
       "      <th></th>\n",
       "      <th>House Construction Cost Index</th>\n",
       "    </tr>\n",
       "  </thead>\n",
       "  <tbody>\n",
       "    <tr>\n",
       "      <th>2021-08-01</th>\n",
       "      <td>219.630345</td>\n",
       "    </tr>\n",
       "    <tr>\n",
       "      <th>2021-09-01</th>\n",
       "      <td>219.786910</td>\n",
       "    </tr>\n",
       "    <tr>\n",
       "      <th>2021-10-01</th>\n",
       "      <td>219.956014</td>\n",
       "    </tr>\n",
       "    <tr>\n",
       "      <th>2021-11-01</th>\n",
       "      <td>220.120847</td>\n",
       "    </tr>\n",
       "    <tr>\n",
       "      <th>2021-12-01</th>\n",
       "      <td>220.287292</td>\n",
       "    </tr>\n",
       "  </tbody>\n",
       "</table>\n",
       "</div>"
      ],
      "text/plain": [
       "            House Construction Cost Index\n",
       "2021-08-01                     219.630345\n",
       "2021-09-01                     219.786910\n",
       "2021-10-01                     219.956014\n",
       "2021-11-01                     220.120847\n",
       "2021-12-01                     220.287292"
      ]
     },
     "execution_count": 41,
     "metadata": {},
     "output_type": "execute_result"
    }
   ],
   "source": [
    "future_predictions.tail()"
   ]
  },
  {
   "cell_type": "code",
   "execution_count": 42,
   "id": "123c90ba",
   "metadata": {},
   "outputs": [
    {
     "data": {
      "text/html": [
       "<div>\n",
       "<style scoped>\n",
       "    .dataframe tbody tr th:only-of-type {\n",
       "        vertical-align: middle;\n",
       "    }\n",
       "\n",
       "    .dataframe tbody tr th {\n",
       "        vertical-align: top;\n",
       "    }\n",
       "\n",
       "    .dataframe thead th {\n",
       "        text-align: right;\n",
       "    }\n",
       "</style>\n",
       "<table border=\"1\" class=\"dataframe\">\n",
       "  <thead>\n",
       "    <tr style=\"text-align: right;\">\n",
       "      <th></th>\n",
       "      <th>UNIT</th>\n",
       "      <th>House Construction Cost Index</th>\n",
       "    </tr>\n",
       "    <tr>\n",
       "      <th>Month</th>\n",
       "      <th></th>\n",
       "      <th></th>\n",
       "    </tr>\n",
       "  </thead>\n",
       "  <tbody>\n",
       "    <tr>\n",
       "      <th>1975-01-01</th>\n",
       "      <td>Base Jan 1991=100</td>\n",
       "      <td>18.3</td>\n",
       "    </tr>\n",
       "    <tr>\n",
       "      <th>1975-02-01</th>\n",
       "      <td>Base Jan 1991=100</td>\n",
       "      <td>18.7</td>\n",
       "    </tr>\n",
       "    <tr>\n",
       "      <th>1975-03-01</th>\n",
       "      <td>Base Jan 1991=100</td>\n",
       "      <td>18.8</td>\n",
       "    </tr>\n",
       "    <tr>\n",
       "      <th>1975-04-01</th>\n",
       "      <td>Base Jan 1991=100</td>\n",
       "      <td>19.6</td>\n",
       "    </tr>\n",
       "    <tr>\n",
       "      <th>1975-05-01</th>\n",
       "      <td>Base Jan 1991=100</td>\n",
       "      <td>19.8</td>\n",
       "    </tr>\n",
       "  </tbody>\n",
       "</table>\n",
       "</div>"
      ],
      "text/plain": [
       "                         UNIT  House Construction Cost Index\n",
       "Month                                                       \n",
       "1975-01-01  Base Jan 1991=100                           18.3\n",
       "1975-02-01  Base Jan 1991=100                           18.7\n",
       "1975-03-01  Base Jan 1991=100                           18.8\n",
       "1975-04-01  Base Jan 1991=100                           19.6\n",
       "1975-05-01  Base Jan 1991=100                           19.8"
      ]
     },
     "execution_count": 42,
     "metadata": {},
     "output_type": "execute_result"
    }
   ],
   "source": [
    "irish_costs.head()"
   ]
  },
  {
   "cell_type": "code",
   "execution_count": 43,
   "id": "718c9503",
   "metadata": {},
   "outputs": [
    {
     "data": {
      "text/html": [
       "<div>\n",
       "<style scoped>\n",
       "    .dataframe tbody tr th:only-of-type {\n",
       "        vertical-align: middle;\n",
       "    }\n",
       "\n",
       "    .dataframe tbody tr th {\n",
       "        vertical-align: top;\n",
       "    }\n",
       "\n",
       "    .dataframe thead th {\n",
       "        text-align: right;\n",
       "    }\n",
       "</style>\n",
       "<table border=\"1\" class=\"dataframe\">\n",
       "  <thead>\n",
       "    <tr style=\"text-align: right;\">\n",
       "      <th></th>\n",
       "      <th>UNIT</th>\n",
       "      <th>House Construction Cost Index</th>\n",
       "    </tr>\n",
       "    <tr>\n",
       "      <th>Month</th>\n",
       "      <th></th>\n",
       "      <th></th>\n",
       "    </tr>\n",
       "  </thead>\n",
       "  <tbody>\n",
       "    <tr>\n",
       "      <th>2017-04-01</th>\n",
       "      <td>Base Jan 1991=100</td>\n",
       "      <td>210.7</td>\n",
       "    </tr>\n",
       "    <tr>\n",
       "      <th>2017-05-01</th>\n",
       "      <td>Base Jan 1991=100</td>\n",
       "      <td>211.1</td>\n",
       "    </tr>\n",
       "    <tr>\n",
       "      <th>2017-06-01</th>\n",
       "      <td>Base Jan 1991=100</td>\n",
       "      <td>211.2</td>\n",
       "    </tr>\n",
       "    <tr>\n",
       "      <th>2017-07-01</th>\n",
       "      <td>Base Jan 1991=100</td>\n",
       "      <td>211.4</td>\n",
       "    </tr>\n",
       "    <tr>\n",
       "      <th>2017-08-01</th>\n",
       "      <td>Base Jan 1991=100</td>\n",
       "      <td>211.4</td>\n",
       "    </tr>\n",
       "  </tbody>\n",
       "</table>\n",
       "</div>"
      ],
      "text/plain": [
       "                         UNIT  House Construction Cost Index\n",
       "Month                                                       \n",
       "2017-04-01  Base Jan 1991=100                          210.7\n",
       "2017-05-01  Base Jan 1991=100                          211.1\n",
       "2017-06-01  Base Jan 1991=100                          211.2\n",
       "2017-07-01  Base Jan 1991=100                          211.4\n",
       "2017-08-01  Base Jan 1991=100                          211.4"
      ]
     },
     "execution_count": 43,
     "metadata": {},
     "output_type": "execute_result"
    }
   ],
   "source": [
    "irish_costs.tail()"
   ]
  },
  {
   "cell_type": "code",
   "execution_count": 44,
   "id": "cc1c4312",
   "metadata": {},
   "outputs": [
    {
     "data": {
      "text/plain": [
       "52"
      ]
     },
     "execution_count": 44,
     "metadata": {},
     "output_type": "execute_result"
    }
   ],
   "source": [
    "len(future_predictions)"
   ]
  },
  {
   "cell_type": "code",
   "execution_count": 45,
   "id": "b8622303",
   "metadata": {},
   "outputs": [
    {
     "data": {
      "text/plain": [
       "512"
      ]
     },
     "execution_count": 45,
     "metadata": {},
     "output_type": "execute_result"
    }
   ],
   "source": [
    "len(irish_costs)"
   ]
  },
  {
   "cell_type": "code",
   "execution_count": 46,
   "id": "5900cce5",
   "metadata": {},
   "outputs": [
    {
     "data": {
      "image/png": "[encoded data removed]",
      "text/plain": [
       "<Figure size 640x480 with 1 Axes>"
      ]
     },
     "metadata": {},
     "output_type": "display_data"
    }
   ],
   "source": [
    "# plot forecasts against actual outcomes\n",
    "plt.plot(irish_costs[\"House Construction Cost Index\"])\n",
    "plt.plot(future_predictions, color='red')\n",
    "plt.xlabel(\"Time (months)\")\n",
    "plt.ylabel(\"Construction Cost Index (ratio (base: Jan 1991=100))\")\n",
    "plt.title(\"Irish House Construction Cost Index Q1 1975 - Q4 2021\")\n",
    "plt.legend(['Measured indices', 'Predicted indices'])\n",
    "plt.show()"
   ]
  },
  {
   "cell_type": "code",
   "execution_count": 47,
   "id": "957ca05f",
   "metadata": {},
   "outputs": [],
   "source": [
    "irish_costs_incl_forecast = pd.concat([irish_costs, future_predictions])"
   ]
  },
  {
   "cell_type": "code",
   "execution_count": 48,
   "id": "ac34621c",
   "metadata": {},
   "outputs": [
    {
     "data": {
      "text/plain": [
       "564"
      ]
     },
     "execution_count": 48,
     "metadata": {},
     "output_type": "execute_result"
    }
   ],
   "source": [
    "len(irish_costs_incl_forecast)"
   ]
  },
  {
   "cell_type": "code",
   "execution_count": 49,
   "id": "4c94f1a4",
   "metadata": {},
   "outputs": [
    {
     "data": {
      "text/html": [
       "<div>\n",
       "<style scoped>\n",
       "    .dataframe tbody tr th:only-of-type {\n",
       "        vertical-align: middle;\n",
       "    }\n",
       "\n",
       "    .dataframe tbody tr th {\n",
       "        vertical-align: top;\n",
       "    }\n",
       "\n",
       "    .dataframe thead th {\n",
       "        text-align: right;\n",
       "    }\n",
       "</style>\n",
       "<table border=\"1\" class=\"dataframe\">\n",
       "  <thead>\n",
       "    <tr style=\"text-align: right;\">\n",
       "      <th></th>\n",
       "      <th>UNIT</th>\n",
       "      <th>House Construction Cost Index</th>\n",
       "    </tr>\n",
       "  </thead>\n",
       "  <tbody>\n",
       "    <tr>\n",
       "      <th>1975-01-01</th>\n",
       "      <td>Base Jan 1991=100</td>\n",
       "      <td>18.3</td>\n",
       "    </tr>\n",
       "    <tr>\n",
       "      <th>1975-02-01</th>\n",
       "      <td>Base Jan 1991=100</td>\n",
       "      <td>18.7</td>\n",
       "    </tr>\n",
       "    <tr>\n",
       "      <th>1975-03-01</th>\n",
       "      <td>Base Jan 1991=100</td>\n",
       "      <td>18.8</td>\n",
       "    </tr>\n",
       "    <tr>\n",
       "      <th>1975-04-01</th>\n",
       "      <td>Base Jan 1991=100</td>\n",
       "      <td>19.6</td>\n",
       "    </tr>\n",
       "    <tr>\n",
       "      <th>1975-05-01</th>\n",
       "      <td>Base Jan 1991=100</td>\n",
       "      <td>19.8</td>\n",
       "    </tr>\n",
       "  </tbody>\n",
       "</table>\n",
       "</div>"
      ],
      "text/plain": [
       "                         UNIT  House Construction Cost Index\n",
       "1975-01-01  Base Jan 1991=100                           18.3\n",
       "1975-02-01  Base Jan 1991=100                           18.7\n",
       "1975-03-01  Base Jan 1991=100                           18.8\n",
       "1975-04-01  Base Jan 1991=100                           19.6\n",
       "1975-05-01  Base Jan 1991=100                           19.8"
      ]
     },
     "execution_count": 49,
     "metadata": {},
     "output_type": "execute_result"
    }
   ],
   "source": [
    "irish_costs_incl_forecast.head()"
   ]
  },
  {
   "cell_type": "code",
   "execution_count": 50,
   "id": "bcfd21a6",
   "metadata": {},
   "outputs": [
    {
     "data": {
      "text/html": [
       "<div>\n",
       "<style scoped>\n",
       "    .dataframe tbody tr th:only-of-type {\n",
       "        vertical-align: middle;\n",
       "    }\n",
       "\n",
       "    .dataframe tbody tr th {\n",
       "        vertical-align: top;\n",
       "    }\n",
       "\n",
       "    .dataframe thead th {\n",
       "        text-align: right;\n",
       "    }\n",
       "</style>\n",
       "<table border=\"1\" class=\"dataframe\">\n",
       "  <thead>\n",
       "    <tr style=\"text-align: right;\">\n",
       "      <th></th>\n",
       "      <th>UNIT</th>\n",
       "      <th>House Construction Cost Index</th>\n",
       "    </tr>\n",
       "  </thead>\n",
       "  <tbody>\n",
       "    <tr>\n",
       "      <th>2021-08-01</th>\n",
       "      <td>NaN</td>\n",
       "      <td>219.630345</td>\n",
       "    </tr>\n",
       "    <tr>\n",
       "      <th>2021-09-01</th>\n",
       "      <td>NaN</td>\n",
       "      <td>219.786910</td>\n",
       "    </tr>\n",
       "    <tr>\n",
       "      <th>2021-10-01</th>\n",
       "      <td>NaN</td>\n",
       "      <td>219.956014</td>\n",
       "    </tr>\n",
       "    <tr>\n",
       "      <th>2021-11-01</th>\n",
       "      <td>NaN</td>\n",
       "      <td>220.120847</td>\n",
       "    </tr>\n",
       "    <tr>\n",
       "      <th>2021-12-01</th>\n",
       "      <td>NaN</td>\n",
       "      <td>220.287292</td>\n",
       "    </tr>\n",
       "  </tbody>\n",
       "</table>\n",
       "</div>"
      ],
      "text/plain": [
       "           UNIT  House Construction Cost Index\n",
       "2021-08-01  NaN                     219.630345\n",
       "2021-09-01  NaN                     219.786910\n",
       "2021-10-01  NaN                     219.956014\n",
       "2021-11-01  NaN                     220.120847\n",
       "2021-12-01  NaN                     220.287292"
      ]
     },
     "execution_count": 50,
     "metadata": {},
     "output_type": "execute_result"
    }
   ],
   "source": [
    "irish_costs_incl_forecast.tail()"
   ]
  },
  {
   "cell_type": "code",
   "execution_count": 74,
   "id": "3f8dab1f",
   "metadata": {},
   "outputs": [],
   "source": [
    "#Create a Quarter variable in same format as completion data dataframe\n",
    "irish_costs_incl_forecast[\"Quarter\"] = \" \"\n",
    "irish_costs_incl_forecast[\"Year\"] = \" \"\n",
    "for i in range(0,len(irish_costs_incl_forecast.index)):\n",
    "    year=irish_costs_incl_forecast.index[i].year\n",
    "    month=irish_costs_incl_forecast.index[i].month\n",
    "    irish_costs_incl_forecast[\"Year\"][i] = year\n",
    "    try:\n",
    "        if month >= 1 and month <= 3:\n",
    "            irish_costs_incl_forecast[\"Quarter\"][i] = (f\"q1_{year}\")\n",
    "        elif month >= 4 and month <= 6:\n",
    "            irish_costs_incl_forecast[\"Quarter\"][i] = (f\"q2_{year}\")\n",
    "        elif month >= 7 and month <= 9:\n",
    "            irish_costs_incl_forecast[\"Quarter\"][i] = (f\"q3_{year}\")\n",
    "        elif month >= 10 and month <= 12:\n",
    "            irish_costs_incl_forecast[\"Quarter\"][i] = (f\"q4_{year}\")\n",
    "    except:\n",
    "        print(\"Month format does not match.\")"
   ]
  },
  {
   "cell_type": "code",
   "execution_count": 75,
   "id": "bd866ddf",
   "metadata": {},
   "outputs": [
    {
     "data": {
      "text/html": [
       "<div>\n",
       "<style scoped>\n",
       "    .dataframe tbody tr th:only-of-type {\n",
       "        vertical-align: middle;\n",
       "    }\n",
       "\n",
       "    .dataframe tbody tr th {\n",
       "        vertical-align: top;\n",
       "    }\n",
       "\n",
       "    .dataframe thead th {\n",
       "        text-align: right;\n",
       "    }\n",
       "</style>\n",
       "<table border=\"1\" class=\"dataframe\">\n",
       "  <thead>\n",
       "    <tr style=\"text-align: right;\">\n",
       "      <th></th>\n",
       "      <th>UNIT</th>\n",
       "      <th>House Construction Cost Index</th>\n",
       "      <th>Quarter</th>\n",
       "      <th>Year</th>\n",
       "    </tr>\n",
       "  </thead>\n",
       "  <tbody>\n",
       "    <tr>\n",
       "      <th>1975-01-01</th>\n",
       "      <td>Base Jan 1991=100</td>\n",
       "      <td>18.3</td>\n",
       "      <td>q1_1975</td>\n",
       "      <td>1975</td>\n",
       "    </tr>\n",
       "    <tr>\n",
       "      <th>1975-02-01</th>\n",
       "      <td>Base Jan 1991=100</td>\n",
       "      <td>18.7</td>\n",
       "      <td>q1_1975</td>\n",
       "      <td>1975</td>\n",
       "    </tr>\n",
       "    <tr>\n",
       "      <th>1975-03-01</th>\n",
       "      <td>Base Jan 1991=100</td>\n",
       "      <td>18.8</td>\n",
       "      <td>q1_1975</td>\n",
       "      <td>1975</td>\n",
       "    </tr>\n",
       "    <tr>\n",
       "      <th>1975-04-01</th>\n",
       "      <td>Base Jan 1991=100</td>\n",
       "      <td>19.6</td>\n",
       "      <td>q2_1975</td>\n",
       "      <td>1975</td>\n",
       "    </tr>\n",
       "    <tr>\n",
       "      <th>1975-05-01</th>\n",
       "      <td>Base Jan 1991=100</td>\n",
       "      <td>19.8</td>\n",
       "      <td>q2_1975</td>\n",
       "      <td>1975</td>\n",
       "    </tr>\n",
       "  </tbody>\n",
       "</table>\n",
       "</div>"
      ],
      "text/plain": [
       "                         UNIT  House Construction Cost Index  Quarter  Year\n",
       "1975-01-01  Base Jan 1991=100                           18.3  q1_1975  1975\n",
       "1975-02-01  Base Jan 1991=100                           18.7  q1_1975  1975\n",
       "1975-03-01  Base Jan 1991=100                           18.8  q1_1975  1975\n",
       "1975-04-01  Base Jan 1991=100                           19.6  q2_1975  1975\n",
       "1975-05-01  Base Jan 1991=100                           19.8  q2_1975  1975"
      ]
     },
     "execution_count": 75,
     "metadata": {},
     "output_type": "execute_result"
    }
   ],
   "source": [
    "irish_costs_incl_forecast.head()"
   ]
  },
  {
   "cell_type": "code",
   "execution_count": 76,
   "id": "9cd6286d",
   "metadata": {},
   "outputs": [
    {
     "data": {
      "text/html": [
       "<div>\n",
       "<style scoped>\n",
       "    .dataframe tbody tr th:only-of-type {\n",
       "        vertical-align: middle;\n",
       "    }\n",
       "\n",
       "    .dataframe tbody tr th {\n",
       "        vertical-align: top;\n",
       "    }\n",
       "\n",
       "    .dataframe thead th {\n",
       "        text-align: right;\n",
       "    }\n",
       "</style>\n",
       "<table border=\"1\" class=\"dataframe\">\n",
       "  <thead>\n",
       "    <tr style=\"text-align: right;\">\n",
       "      <th></th>\n",
       "      <th>UNIT</th>\n",
       "      <th>House Construction Cost Index</th>\n",
       "      <th>Quarter</th>\n",
       "      <th>Year</th>\n",
       "    </tr>\n",
       "  </thead>\n",
       "  <tbody>\n",
       "    <tr>\n",
       "      <th>2021-08-01</th>\n",
       "      <td>NaN</td>\n",
       "      <td>219.630345</td>\n",
       "      <td>q3_2021</td>\n",
       "      <td>2021</td>\n",
       "    </tr>\n",
       "    <tr>\n",
       "      <th>2021-09-01</th>\n",
       "      <td>NaN</td>\n",
       "      <td>219.786910</td>\n",
       "      <td>q3_2021</td>\n",
       "      <td>2021</td>\n",
       "    </tr>\n",
       "    <tr>\n",
       "      <th>2021-10-01</th>\n",
       "      <td>NaN</td>\n",
       "      <td>219.956014</td>\n",
       "      <td>q4_2021</td>\n",
       "      <td>2021</td>\n",
       "    </tr>\n",
       "    <tr>\n",
       "      <th>2021-11-01</th>\n",
       "      <td>NaN</td>\n",
       "      <td>220.120847</td>\n",
       "      <td>q4_2021</td>\n",
       "      <td>2021</td>\n",
       "    </tr>\n",
       "    <tr>\n",
       "      <th>2021-12-01</th>\n",
       "      <td>NaN</td>\n",
       "      <td>220.287292</td>\n",
       "      <td>q4_2021</td>\n",
       "      <td>2021</td>\n",
       "    </tr>\n",
       "  </tbody>\n",
       "</table>\n",
       "</div>"
      ],
      "text/plain": [
       "           UNIT  House Construction Cost Index  Quarter  Year\n",
       "2021-08-01  NaN                     219.630345  q3_2021  2021\n",
       "2021-09-01  NaN                     219.786910  q3_2021  2021\n",
       "2021-10-01  NaN                     219.956014  q4_2021  2021\n",
       "2021-11-01  NaN                     220.120847  q4_2021  2021\n",
       "2021-12-01  NaN                     220.287292  q4_2021  2021"
      ]
     },
     "execution_count": 76,
     "metadata": {},
     "output_type": "execute_result"
    }
   ],
   "source": [
    "irish_costs_incl_forecast.tail()"
   ]
  },
  {
   "cell_type": "markdown",
   "id": "31b15fee",
   "metadata": {},
   "source": [
    "## Read the irish social housing construction data"
   ]
  },
  {
   "cell_type": "code",
   "execution_count": 116,
   "id": "58b6985f",
   "metadata": {},
   "outputs": [
    {
     "data": {
      "text/plain": [
       "0        0\n",
       "1        1\n",
       "2        2\n",
       "3        3\n",
       "4        4\n",
       "      ... \n",
       "432    339\n",
       "433    340\n",
       "434    341\n",
       "435    342\n",
       "436    343\n",
       "Name: Unnamed: 0, Length: 437, dtype: int64"
      ]
     },
     "execution_count": 116,
     "metadata": {},
     "output_type": "execute_result"
    }
   ],
   "source": [
    "irish_completed_social_housing = pd.read_csv(path + \"/irish_completed_social_housing.csv\")\n",
    "irish_completed_social_housing.pop('Unnamed: 0')"
   ]
  },
  {
   "cell_type": "code",
   "execution_count": 117,
   "id": "f26405a4",
   "metadata": {},
   "outputs": [
    {
     "data": {
      "text/html": [
       "<div>\n",
       "<style scoped>\n",
       "    .dataframe tbody tr th:only-of-type {\n",
       "        vertical-align: middle;\n",
       "    }\n",
       "\n",
       "    .dataframe tbody tr th {\n",
       "        vertical-align: top;\n",
       "    }\n",
       "\n",
       "    .dataframe thead th {\n",
       "        text-align: right;\n",
       "    }\n",
       "</style>\n",
       "<table border=\"1\" class=\"dataframe\">\n",
       "  <thead>\n",
       "    <tr style=\"text-align: right;\">\n",
       "      <th></th>\n",
       "      <th>Quarter</th>\n",
       "      <th>Local Authority</th>\n",
       "      <th>No. of Units</th>\n",
       "      <th>Year</th>\n",
       "    </tr>\n",
       "  </thead>\n",
       "  <tbody>\n",
       "    <tr>\n",
       "      <th>0</th>\n",
       "      <td>q1_2018</td>\n",
       "      <td>Carlow</td>\n",
       "      <td>374.0</td>\n",
       "      <td>2018</td>\n",
       "    </tr>\n",
       "    <tr>\n",
       "      <th>1</th>\n",
       "      <td>q1_2018</td>\n",
       "      <td>Cavan</td>\n",
       "      <td>55.0</td>\n",
       "      <td>2018</td>\n",
       "    </tr>\n",
       "    <tr>\n",
       "      <th>2</th>\n",
       "      <td>q1_2018</td>\n",
       "      <td>Clare</td>\n",
       "      <td>212.0</td>\n",
       "      <td>2018</td>\n",
       "    </tr>\n",
       "    <tr>\n",
       "      <th>3</th>\n",
       "      <td>q1_2018</td>\n",
       "      <td>Cork City</td>\n",
       "      <td>873.0</td>\n",
       "      <td>2018</td>\n",
       "    </tr>\n",
       "    <tr>\n",
       "      <th>4</th>\n",
       "      <td>q1_2018</td>\n",
       "      <td>Cork County</td>\n",
       "      <td>765.0</td>\n",
       "      <td>2018</td>\n",
       "    </tr>\n",
       "  </tbody>\n",
       "</table>\n",
       "</div>"
      ],
      "text/plain": [
       "   Quarter Local Authority  No. of Units  Year\n",
       "0  q1_2018          Carlow         374.0  2018\n",
       "1  q1_2018           Cavan          55.0  2018\n",
       "2  q1_2018           Clare         212.0  2018\n",
       "3  q1_2018       Cork City         873.0  2018\n",
       "4  q1_2018     Cork County         765.0  2018"
      ]
     },
     "execution_count": 117,
     "metadata": {},
     "output_type": "execute_result"
    }
   ],
   "source": [
    "irish_completed_social_housing.head()"
   ]
  },
  {
   "cell_type": "code",
   "execution_count": 118,
   "id": "490fd7b6",
   "metadata": {},
   "outputs": [
    {
     "data": {
      "text/html": [
       "<div>\n",
       "<style scoped>\n",
       "    .dataframe tbody tr th:only-of-type {\n",
       "        vertical-align: middle;\n",
       "    }\n",
       "\n",
       "    .dataframe tbody tr th {\n",
       "        vertical-align: top;\n",
       "    }\n",
       "\n",
       "    .dataframe thead th {\n",
       "        text-align: right;\n",
       "    }\n",
       "</style>\n",
       "<table border=\"1\" class=\"dataframe\">\n",
       "  <thead>\n",
       "    <tr style=\"text-align: right;\">\n",
       "      <th></th>\n",
       "      <th>Quarter</th>\n",
       "      <th>Local Authority</th>\n",
       "      <th>No. of Units</th>\n",
       "      <th>Year</th>\n",
       "    </tr>\n",
       "  </thead>\n",
       "  <tbody>\n",
       "    <tr>\n",
       "      <th>432</th>\n",
       "      <td>q4-2021</td>\n",
       "      <td>Tipperary</td>\n",
       "      <td>811.0</td>\n",
       "      <td>2021</td>\n",
       "    </tr>\n",
       "    <tr>\n",
       "      <th>433</th>\n",
       "      <td>q4-2021</td>\n",
       "      <td>Waterford</td>\n",
       "      <td>947.0</td>\n",
       "      <td>2021</td>\n",
       "    </tr>\n",
       "    <tr>\n",
       "      <th>434</th>\n",
       "      <td>q4-2021</td>\n",
       "      <td>Westmeath</td>\n",
       "      <td>981.0</td>\n",
       "      <td>2021</td>\n",
       "    </tr>\n",
       "    <tr>\n",
       "      <th>435</th>\n",
       "      <td>q4-2021</td>\n",
       "      <td>Wexford</td>\n",
       "      <td>1234.0</td>\n",
       "      <td>2021</td>\n",
       "    </tr>\n",
       "    <tr>\n",
       "      <th>436</th>\n",
       "      <td>q4-2021</td>\n",
       "      <td>Wicklow</td>\n",
       "      <td>1825.0</td>\n",
       "      <td>2021</td>\n",
       "    </tr>\n",
       "  </tbody>\n",
       "</table>\n",
       "</div>"
      ],
      "text/plain": [
       "     Quarter Local Authority  No. of Units  Year\n",
       "432  q4-2021       Tipperary         811.0  2021\n",
       "433  q4-2021       Waterford         947.0  2021\n",
       "434  q4-2021       Westmeath         981.0  2021\n",
       "435  q4-2021         Wexford        1234.0  2021\n",
       "436  q4-2021         Wicklow        1825.0  2021"
      ]
     },
     "execution_count": 118,
     "metadata": {},
     "output_type": "execute_result"
    }
   ],
   "source": [
    "irish_completed_social_housing.tail()"
   ]
  },
  {
   "cell_type": "code",
   "execution_count": 119,
   "id": "02ef07e1",
   "metadata": {},
   "outputs": [],
   "source": [
    "irish_completed_social_housing_by_year = irish_completed_social_housing.groupby(['Year'],as_index=False).sum()"
   ]
  },
  {
   "cell_type": "code",
   "execution_count": 120,
   "id": "7146c58c",
   "metadata": {},
   "outputs": [
    {
     "data": {
      "text/html": [
       "<div>\n",
       "<style scoped>\n",
       "    .dataframe tbody tr th:only-of-type {\n",
       "        vertical-align: middle;\n",
       "    }\n",
       "\n",
       "    .dataframe tbody tr th {\n",
       "        vertical-align: top;\n",
       "    }\n",
       "\n",
       "    .dataframe thead th {\n",
       "        text-align: right;\n",
       "    }\n",
       "</style>\n",
       "<table border=\"1\" class=\"dataframe\">\n",
       "  <thead>\n",
       "    <tr style=\"text-align: right;\">\n",
       "      <th></th>\n",
       "      <th>Year</th>\n",
       "      <th>No. of Units</th>\n",
       "    </tr>\n",
       "  </thead>\n",
       "  <tbody>\n",
       "    <tr>\n",
       "      <th>0</th>\n",
       "      <td>2018</td>\n",
       "      <td>67837.0</td>\n",
       "    </tr>\n",
       "    <tr>\n",
       "      <th>1</th>\n",
       "      <td>2019</td>\n",
       "      <td>91199.0</td>\n",
       "    </tr>\n",
       "    <tr>\n",
       "      <th>2</th>\n",
       "      <td>2020</td>\n",
       "      <td>95487.0</td>\n",
       "    </tr>\n",
       "    <tr>\n",
       "      <th>3</th>\n",
       "      <td>2021</td>\n",
       "      <td>112909.0</td>\n",
       "    </tr>\n",
       "  </tbody>\n",
       "</table>\n",
       "</div>"
      ],
      "text/plain": [
       "   Year  No. of Units\n",
       "0  2018       67837.0\n",
       "1  2019       91199.0\n",
       "2  2020       95487.0\n",
       "3  2021      112909.0"
      ]
     },
     "execution_count": 120,
     "metadata": {},
     "output_type": "execute_result"
    }
   ],
   "source": [
    "irish_completed_social_housing_by_year.head()"
   ]
  },
  {
   "cell_type": "markdown",
   "id": "fbccba0d",
   "metadata": {},
   "source": [
    "## Basic visualisations"
   ]
  },
  {
   "cell_type": "markdown",
   "id": "28f74a2c",
   "metadata": {},
   "source": [
    "### Check if no. of units built per quarter is normally distributed"
   ]
  },
  {
   "cell_type": "code",
   "execution_count": 121,
   "id": "f9d55c9b",
   "metadata": {},
   "outputs": [
    {
     "data": {
      "image/png": "[encoded data removed]",
      "text/plain": [
       "<Figure size 1100x400 with 2 Axes>"
      ]
     },
     "metadata": {},
     "output_type": "display_data"
    }
   ],
   "source": [
    "ax = irish_completed_social_housing.hist(column='No. of Units', edgecolor='black', figsize=(11,4), bins= 20, grid=False, layout=(1,2), sharex=False, color='#86bf91', zorder=2, rwidth=0.9)"
   ]
  },
  {
   "cell_type": "code",
   "execution_count": null,
   "id": "3c5f9bf9",
   "metadata": {},
   "outputs": [],
   "source": []
  },
  {
   "cell_type": "code",
   "execution_count": null,
   "id": "26ae60f4",
   "metadata": {},
   "outputs": [],
   "source": []
  },
  {
   "cell_type": "code",
   "execution_count": 122,
   "id": "90c99be6",
   "metadata": {},
   "outputs": [
    {
     "name": "stderr",
     "output_type": "stream",
     "text": [
      "No artists with labels found to put in legend.  Note that artists whose label start with an underscore are ignored when legend() is called with no argument.\n"
     ]
    },
    {
     "data": {
      "text/plain": [
       "<matplotlib.legend.Legend at 0x7f9bbc2dff70>"
      ]
     },
     "execution_count": 122,
     "metadata": {},
     "output_type": "execute_result"
    },
    {
     "data": {
      "image/png": "[encoded data removed]",
      "text/plain": [
       "<Figure size 1170x827.315 with 1 Axes>"
      ]
     },
     "metadata": {},
     "output_type": "display_data"
    }
   ],
   "source": [
    "a4_dims = (11.7, 11.7/sqrt(2))\n",
    "fig, ax = plt.subplots(figsize=a4_dims)\n",
    "ax=sns.barplot(x=\"Quarter\", y=\"No. of Units\", data=irish_completed_social_housing, estimator = np.median)\n",
    "ax.legend(bbox_to_anchor=(1.02, 1), loc='upper left', borderaxespad=0)"
   ]
  },
  {
   "cell_type": "markdown",
   "id": "d2aea8f6",
   "metadata": {},
   "source": [
    "### References\n",
    "\n",
    "https://towardsdatascience.com/time-series-forecasting-with-machine-learning-b3072a5b44ba\n",
    "\n",
    "https://machinelearningmastery.com/time-series-data-visualization-with-python/\n",
    "\n",
    "https://www.simplilearn.com/tutorials/python-tutorial/time-series-analysis-in-python\n",
    "\n",
    "https://www.educative.io/answers/what-is-autocorrelation-in-python\n",
    "\n",
    "https://online.stat.psu.edu/stat462/node/188/\n",
    "\n",
    "https://machinelearningmastery.com/arima-for-time-series-forecasting-with-python/\n",
    "\n",
    "https://www.statology.org/dickey-fuller-test-python/\n",
    "\n",
    "https://medium.com/analytics-vidhya/arima-fc1f962c22d4\n",
    "\n",
    "https://www.projectpro.io/recipes/do-cross-validation-for-time-series"
   ]
  },
  {
   "cell_type": "code",
   "execution_count": null,
   "id": "90931077",
   "metadata": {},
   "outputs": [],
   "source": []
  }
 ],
 "metadata": {
  "kernelspec": {
   "display_name": "Python 3 (ipykernel)",
   "language": "python",
   "name": "python3"
  },
  "language_info": {
   "codemirror_mode": {
    "name": "ipython",
    "version": 3
   },
   "file_extension": ".py",
   "mimetype": "text/x-python",
   "name": "python",
   "nbconvert_exporter": "python",
   "pygments_lexer": "ipython3",
   "version": "3.9.13"
  }
 },
 "nbformat": 4,
 "nbformat_minor": 5
}
