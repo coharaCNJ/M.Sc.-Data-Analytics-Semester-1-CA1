{
 "cells": [
  {
   "cell_type": "code",
   "execution_count": 6,
   "id": "487b1448",
   "metadata": {},
   "outputs": [
    {
     "name": "stdout",
     "output_type": "stream",
     "text": [
      "Collecting newspaper3k\n",
      "  Downloading newspaper3k-0.2.8-py3-none-any.whl (211 kB)\n",
      "\u001b[2K     \u001b[38;2;114;156;31m━━━━━━━━━━━━━━━━━━━━━━━━━━━━━━━━━━━━━━━\u001b[0m \u001b[32m211.1/211.1 kB\u001b[0m \u001b[31m1.9 MB/s\u001b[0m eta \u001b[36m0:00:00\u001b[0m MB/s\u001b[0m eta \u001b[36m0:00:01\u001b[0m:01\u001b[0m\n",
      "\u001b[?25hRequirement already satisfied: beautifulsoup4>=4.4.1 in /home/ciara/anaconda3/lib/python3.9/site-packages (from newspaper3k) (4.11.1)\n",
      "Requirement already satisfied: Pillow>=3.3.0 in /home/ciara/anaconda3/lib/python3.9/site-packages (from newspaper3k) (9.2.0)\n",
      "Requirement already satisfied: PyYAML>=3.11 in /home/ciara/anaconda3/lib/python3.9/site-packages (from newspaper3k) (6.0)\n",
      "Requirement already satisfied: cssselect>=0.9.2 in /home/ciara/anaconda3/lib/python3.9/site-packages (from newspaper3k) (1.1.0)\n",
      "Requirement already satisfied: lxml>=3.6.0 in /home/ciara/anaconda3/lib/python3.9/site-packages (from newspaper3k) (4.9.1)\n",
      "Requirement already satisfied: nltk>=3.2.1 in /home/ciara/anaconda3/lib/python3.9/site-packages (from newspaper3k) (3.7)\n",
      "Requirement already satisfied: requests>=2.10.0 in /home/ciara/.local/lib/python3.9/site-packages (from newspaper3k) (2.28.2)\n",
      "Collecting feedparser>=5.2.1 (from newspaper3k)\n",
      "  Downloading feedparser-6.0.10-py3-none-any.whl (81 kB)\n",
      "\u001b[2K     \u001b[38;2;114;156;31m━━━━━━━━━━━━━━━━━━━━━━━━━━━━━━━━━━━━━━━━\u001b[0m \u001b[32m81.1/81.1 kB\u001b[0m \u001b[31m2.3 MB/s\u001b[0m eta \u001b[36m0:00:00\u001b[0m MB/s\u001b[0m eta \u001b[36m0:00:01\u001b[0m\n",
      "\u001b[?25hRequirement already satisfied: tldextract>=2.0.1 in /home/ciara/anaconda3/lib/python3.9/site-packages (from newspaper3k) (3.2.0)\n",
      "Collecting feedfinder2>=0.0.4 (from newspaper3k)\n",
      "  Downloading feedfinder2-0.0.4.tar.gz (3.3 kB)\n",
      "  Preparing metadata (setup.py) ... \u001b[?25ldone\n",
      "\u001b[?25hCollecting jieba3k>=0.35.1 (from newspaper3k)\n",
      "  Downloading jieba3k-0.35.1.zip (7.4 MB)\n",
      "\u001b[2K     \u001b[38;2;114;156;31m━━━━━━━━━━━━━━━━━━━━━━━━━━━━━━━━━━━━━━━━\u001b[0m \u001b[32m7.4/7.4 MB\u001b[0m \u001b[31m1.5 MB/s\u001b[0m eta \u001b[36m0:00:00\u001b[0mm eta \u001b[36m0:00:01\u001b[0m[36m0:00:01\u001b[0m\n",
      "\u001b[?25h  Preparing metadata (setup.py) ... \u001b[?25ldone\n",
      "\u001b[?25hRequirement already satisfied: python-dateutil>=2.5.3 in /home/ciara/anaconda3/lib/python3.9/site-packages (from newspaper3k) (2.8.2)\n",
      "Collecting tinysegmenter==0.3 (from newspaper3k)\n",
      "  Downloading tinysegmenter-0.3.tar.gz (16 kB)\n",
      "  Preparing metadata (setup.py) ... \u001b[?25ldone\n",
      "\u001b[?25hRequirement already satisfied: soupsieve>1.2 in /home/ciara/anaconda3/lib/python3.9/site-packages (from beautifulsoup4>=4.4.1->newspaper3k) (2.3.1)\n",
      "Requirement already satisfied: six in /home/ciara/anaconda3/lib/python3.9/site-packages (from feedfinder2>=0.0.4->newspaper3k) (1.16.0)\n",
      "Collecting sgmllib3k (from feedparser>=5.2.1->newspaper3k)\n",
      "  Downloading sgmllib3k-1.0.0.tar.gz (5.8 kB)\n",
      "  Preparing metadata (setup.py) ... \u001b[?25ldone\n",
      "\u001b[?25hRequirement already satisfied: click in /home/ciara/anaconda3/lib/python3.9/site-packages (from nltk>=3.2.1->newspaper3k) (8.0.4)\n",
      "Requirement already satisfied: joblib in /home/ciara/anaconda3/lib/python3.9/site-packages (from nltk>=3.2.1->newspaper3k) (1.1.0)\n",
      "Requirement already satisfied: regex>=2021.8.3 in /home/ciara/anaconda3/lib/python3.9/site-packages (from nltk>=3.2.1->newspaper3k) (2022.7.9)\n",
      "Requirement already satisfied: tqdm in /home/ciara/anaconda3/lib/python3.9/site-packages (from nltk>=3.2.1->newspaper3k) (4.64.1)\n",
      "Requirement already satisfied: charset-normalizer<4,>=2 in /home/ciara/anaconda3/lib/python3.9/site-packages (from requests>=2.10.0->newspaper3k) (2.0.4)\n",
      "Requirement already satisfied: idna<4,>=2.5 in /home/ciara/anaconda3/lib/python3.9/site-packages (from requests>=2.10.0->newspaper3k) (3.3)\n",
      "Requirement already satisfied: urllib3<1.27,>=1.21.1 in /home/ciara/anaconda3/lib/python3.9/site-packages (from requests>=2.10.0->newspaper3k) (1.26.11)\n",
      "Requirement already satisfied: certifi>=2017.4.17 in /home/ciara/anaconda3/lib/python3.9/site-packages (from requests>=2.10.0->newspaper3k) (2023.5.7)\n",
      "Requirement already satisfied: requests-file>=1.4 in /home/ciara/anaconda3/lib/python3.9/site-packages (from tldextract>=2.0.1->newspaper3k) (1.5.1)\n",
      "Requirement already satisfied: filelock>=3.0.8 in /home/ciara/anaconda3/lib/python3.9/site-packages (from tldextract>=2.0.1->newspaper3k) (3.6.0)\n",
      "Building wheels for collected packages: tinysegmenter, feedfinder2, jieba3k, sgmllib3k\n",
      "  Building wheel for tinysegmenter (setup.py) ... \u001b[?25ldone\n",
      "\u001b[?25h  Created wheel for tinysegmenter: filename=tinysegmenter-0.3-py3-none-any.whl size=13541 sha256=ff05d27fe3c0b69cfc7ca0c3c306178f92ae1818df0d080df067b7350d5a0998\n",
      "  Stored in directory: /home/ciara/.cache/pip/wheels/94/ad/df/a2a01300cea47d5695f242f7e925a805970106fd9e4b151468\n",
      "  Building wheel for feedfinder2 (setup.py) ... \u001b[?25ldone\n",
      "\u001b[?25h  Created wheel for feedfinder2: filename=feedfinder2-0.0.4-py3-none-any.whl size=3341 sha256=628031d1747276621b5e6d0d9ca317840d2ed1ebeaffc46d455186c855056e23\n",
      "  Stored in directory: /home/ciara/.cache/pip/wheels/43/4a/c2/61a371b2524ac90805391c660d8dc4505705297f25e2b85a5d\n",
      "  Building wheel for jieba3k (setup.py) ... \u001b[?25ldone\n",
      "\u001b[?25h  Created wheel for jieba3k: filename=jieba3k-0.35.1-py3-none-any.whl size=7398382 sha256=fa23046b300339a56743459e3b7b20413071431467234354bc3f2c1eb1c00492\n",
      "  Stored in directory: /home/ciara/.cache/pip/wheels/c2/22/59/8214a8d6357e9f540ce1f37f9a4362b6156b4ca81b37f1945f\n",
      "  Building wheel for sgmllib3k (setup.py) ... \u001b[?25ldone\n",
      "\u001b[?25h  Created wheel for sgmllib3k: filename=sgmllib3k-1.0.0-py3-none-any.whl size=6046 sha256=5d95c304e08de756cf89fdfc5cccdceff834b1f2c623b1e433fdbb4d72afc7ab\n",
      "  Stored in directory: /home/ciara/.cache/pip/wheels/65/7a/a7/78c287f64e401255dff4c13fdbc672fed5efbfd21c530114e1\n",
      "Successfully built tinysegmenter feedfinder2 jieba3k sgmllib3k\n",
      "Installing collected packages: tinysegmenter, sgmllib3k, jieba3k, feedparser, feedfinder2, newspaper3k\n",
      "Successfully installed feedfinder2-0.0.4 feedparser-6.0.10 jieba3k-0.35.1 newspaper3k-0.2.8 sgmllib3k-1.0.0 tinysegmenter-0.3\n"
     ]
    }
   ],
   "source": [
    "!pip install newspaper3k"
   ]
  },
  {
   "cell_type": "code",
   "execution_count": 8,
   "id": "6c7ffd32",
   "metadata": {},
   "outputs": [],
   "source": [
    "from newspaper import Article\n",
    " \n",
    "#A new article from TOI\n",
    "url = \"https://www.hs.fi/ulkomaat/art-2000006349804.html\"\n",
    "\n",
    "#For different language newspaper refer above table\n",
    "toi_article = Article(url, language=\"fi\") # en for English\n",
    " \n",
    "#To download the article\n",
    "toi_article.download()\n",
    " \n",
    "#To parse the article\n",
    "toi_article.parse()\n",
    " \n",
    "#To perform natural language processing ie. nlp\n",
    "toi_article.nlp()"
   ]
  },
  {
   "cell_type": "code",
   "execution_count": 12,
   "id": "59497d32",
   "metadata": {},
   "outputs": [
    {
     "name": "stdout",
     "output_type": "stream",
     "text": [
      "Article's Title:\n",
      "Suomi on Euroopan malliesimerkki kodittomuuden selättämisessä, ylistää The Economist\n",
      "n\n"
     ]
    }
   ],
   "source": [
    "#To extract title\n",
    "print(\"Article's Title:\")\n",
    "print(toi_article.title)\n",
    "print(\"n\")"
   ]
  },
  {
   "cell_type": "code",
   "execution_count": 10,
   "id": "94dd2702",
   "metadata": {},
   "outputs": [
    {
     "name": "stdout",
     "output_type": "stream",
     "text": [
      "Article's Text:\n",
      "\n",
      "n\n"
     ]
    }
   ],
   "source": [
    "#To extract text\n",
    "print(\"Article's Text:\")\n",
    "print(toi_article.text)\n",
    "print(\"n\")"
   ]
  },
  {
   "cell_type": "code",
   "execution_count": 11,
   "id": "56b40417",
   "metadata": {},
   "outputs": [
    {
     "name": "stdout",
     "output_type": "stream",
     "text": [
      "Article's Summary:\n",
      "\n",
      "n\n"
     ]
    }
   ],
   "source": [
    "#To extract summary\n",
    "print(\"Article's Summary:\")\n",
    "print(toi_article.summary)\n",
    "print(\"n\")"
   ]
  },
  {
   "cell_type": "code",
   "execution_count": 13,
   "id": "5bac0994",
   "metadata": {},
   "outputs": [
    {
     "name": "stdout",
     "output_type": "stream",
     "text": [
      "Article's Keywords:\n",
      "['selättämisessä', 'ylistää', 'euroopan', 'economist', 'the', 'kodittomuuden', 'malliesimerkki', 'suomi', 'on']\n"
     ]
    }
   ],
   "source": [
    "#To extract keywords\n",
    "print(\"Article's Keywords:\")\n",
    "print(toi_article.keywords)"
   ]
  },
  {
   "cell_type": "markdown",
   "id": "868bf6d8",
   "metadata": {},
   "source": [
    "## Twitter attempt"
   ]
  },
  {
   "cell_type": "code",
   "execution_count": 1,
   "id": "b032df78",
   "metadata": {},
   "outputs": [
    {
     "name": "stdout",
     "output_type": "stream",
     "text": [
      "Collecting httpx\n",
      "  Downloading httpx-0.24.0-py3-none-any.whl (75 kB)\n",
      "\u001b[2K     \u001b[38;2;114;156;31m━━━━━━━━━━━━━━━━━━━━━━━━━━━━━━━━━━━━━━━━\u001b[0m \u001b[32m75.3/75.3 kB\u001b[0m \u001b[31m1.7 MB/s\u001b[0m eta \u001b[36m0:00:00\u001b[0m[31m1.8 MB/s\u001b[0m eta \u001b[36m0:00:01\u001b[0m\n",
      "\u001b[?25hCollecting playwright\n",
      "  Downloading playwright-1.33.0-py3-none-manylinux1_x86_64.whl (35.3 MB)\n",
      "\u001b[2K     \u001b[38;2;114;156;31m━━━━━━━━━━━━━━━━━━━━━━━━━━━━━━━━━━━━━━━━\u001b[0m \u001b[32m35.3/35.3 MB\u001b[0m \u001b[31m1.6 MB/s\u001b[0m eta \u001b[36m0:00:00\u001b[0mm eta \u001b[36m0:00:01\u001b[0m[36m0:00:01\u001b[0m\n",
      "\u001b[?25hRequirement already satisfied: parsel in /home/ciara/anaconda3/lib/python3.9/site-packages (1.6.0)\n",
      "Requirement already satisfied: jmespath in /home/ciara/anaconda3/lib/python3.9/site-packages (0.10.0)\n",
      "Collecting scrapfly-sdk\n",
      "  Downloading scrapfly_sdk-0.8.5-py3-none-any.whl (28 kB)\n",
      "Requirement already satisfied: certifi in /home/ciara/anaconda3/lib/python3.9/site-packages (from httpx) (2023.5.7)\n",
      "Collecting httpcore<0.18.0,>=0.15.0 (from httpx)\n",
      "  Downloading httpcore-0.17.0-py3-none-any.whl (70 kB)\n",
      "\u001b[2K     \u001b[38;2;114;156;31m━━━━━━━━━━━━━━━━━━━━━━━━━━━━━━━━━━━━━━━━\u001b[0m \u001b[32m70.6/70.6 kB\u001b[0m \u001b[31m1.6 MB/s\u001b[0m eta \u001b[36m0:00:00\u001b[0m MB/s\u001b[0m eta \u001b[36m0:00:01\u001b[0m\n",
      "\u001b[?25hRequirement already satisfied: idna in /home/ciara/anaconda3/lib/python3.9/site-packages (from httpx) (3.3)\n",
      "Requirement already satisfied: sniffio in /home/ciara/anaconda3/lib/python3.9/site-packages (from httpx) (1.2.0)\n",
      "Collecting greenlet==2.0.1 (from playwright)\n",
      "  Downloading greenlet-2.0.1-cp39-cp39-manylinux_2_17_x86_64.manylinux2014_x86_64.whl (535 kB)\n",
      "\u001b[2K     \u001b[38;2;114;156;31m━━━━━━━━━━━━━━━━━━━━━━━━━━━━━━━━━━━━━━━\u001b[0m \u001b[32m535.9/535.9 kB\u001b[0m \u001b[31m1.9 MB/s\u001b[0m eta \u001b[36m0:00:00\u001b[0m[31m1.9 MB/s\u001b[0m eta \u001b[36m0:00:01\u001b[0m\n",
      "\u001b[?25hCollecting pyee==9.0.4 (from playwright)\n",
      "  Downloading pyee-9.0.4-py2.py3-none-any.whl (14 kB)\n",
      "Requirement already satisfied: typing-extensions in /home/ciara/anaconda3/lib/python3.9/site-packages (from pyee==9.0.4->playwright) (4.3.0)\n",
      "Requirement already satisfied: w3lib>=1.19.0 in /home/ciara/anaconda3/lib/python3.9/site-packages (from parsel) (1.21.0)\n",
      "Requirement already satisfied: lxml in /home/ciara/anaconda3/lib/python3.9/site-packages (from parsel) (4.9.1)\n",
      "Requirement already satisfied: six>=1.6.0 in /home/ciara/anaconda3/lib/python3.9/site-packages (from parsel) (1.16.0)\n",
      "Requirement already satisfied: cssselect>=0.9 in /home/ciara/anaconda3/lib/python3.9/site-packages (from parsel) (1.1.0)\n",
      "Requirement already satisfied: decorator>=4.2.0 in /home/ciara/anaconda3/lib/python3.9/site-packages (from scrapfly-sdk) (5.1.1)\n",
      "Requirement already satisfied: requests>=2.25.0 in /home/ciara/.local/lib/python3.9/site-packages (from scrapfly-sdk) (2.28.2)\n",
      "Requirement already satisfied: python-dateutil<3.0.0,>=2.1 in /home/ciara/anaconda3/lib/python3.9/site-packages (from scrapfly-sdk) (2.8.2)\n",
      "Collecting loguru>=0.5 (from scrapfly-sdk)\n",
      "  Downloading loguru-0.7.0-py3-none-any.whl (59 kB)\n",
      "\u001b[2K     \u001b[38;2;114;156;31m━━━━━━━━━━━━━━━━━━━━━━━━━━━━━━━━━━━━━━━━\u001b[0m \u001b[32m60.0/60.0 kB\u001b[0m \u001b[31m1.5 MB/s\u001b[0m eta \u001b[36m0:00:00\u001b[0m MB/s\u001b[0m eta \u001b[36m0:00:01\u001b[0m\n",
      "\u001b[?25hRequirement already satisfied: urllib3>=1.26.0 in /home/ciara/anaconda3/lib/python3.9/site-packages (from scrapfly-sdk) (1.26.11)\n",
      "Collecting backoff>=1.10.0 (from scrapfly-sdk)\n",
      "  Downloading backoff-2.2.1-py3-none-any.whl (15 kB)\n",
      "Collecting h11<0.15,>=0.13 (from httpcore<0.18.0,>=0.15.0->httpx)\n",
      "  Downloading h11-0.14.0-py3-none-any.whl (58 kB)\n",
      "\u001b[2K     \u001b[38;2;114;156;31m━━━━━━━━━━━━━━━━━━━━━━━━━━━━━━━━━━━━━━━━\u001b[0m \u001b[32m58.3/58.3 kB\u001b[0m \u001b[31m1.6 MB/s\u001b[0m eta \u001b[36m0:00:00\u001b[0m MB/s\u001b[0m eta \u001b[36m0:00:01\u001b[0m\n",
      "\u001b[?25hRequirement already satisfied: anyio<5.0,>=3.0 in /home/ciara/anaconda3/lib/python3.9/site-packages (from httpcore<0.18.0,>=0.15.0->httpx) (3.5.0)\n",
      "Requirement already satisfied: charset-normalizer<4,>=2 in /home/ciara/anaconda3/lib/python3.9/site-packages (from requests>=2.25.0->scrapfly-sdk) (2.0.4)\n",
      "Installing collected packages: pyee, loguru, h11, greenlet, backoff, scrapfly-sdk, playwright, httpcore, httpx\n",
      "  Attempting uninstall: pyee\n",
      "    Found existing installation: pyee 8.2.2\n",
      "    Uninstalling pyee-8.2.2:\n",
      "      Successfully uninstalled pyee-8.2.2\n",
      "  Attempting uninstall: greenlet\n",
      "    Found existing installation: greenlet 1.1.1\n",
      "    Uninstalling greenlet-1.1.1:\n",
      "      Successfully uninstalled greenlet-1.1.1\n",
      "\u001b[31mERROR: pip's dependency resolver does not currently take into account all the packages that are installed. This behaviour is the source of the following dependency conflicts.\n",
      "pyppeteer 1.0.2 requires pyee<9.0.0,>=8.1.0, but you have pyee 9.0.4 which is incompatible.\u001b[0m\u001b[31m\n",
      "\u001b[0mSuccessfully installed backoff-2.2.1 greenlet-2.0.1 h11-0.14.0 httpcore-0.17.0 httpx-0.24.0 loguru-0.7.0 playwright-1.33.0 pyee-9.0.4 scrapfly-sdk-0.8.5\n"
     ]
    }
   ],
   "source": [
    "!pip install httpx playwright parsel jmespath scrapfly-sdk"
   ]
  },
  {
   "cell_type": "code",
   "execution_count": null,
   "id": "956c7d1f",
   "metadata": {},
   "outputs": [],
   "source": []
  }
 ],
 "metadata": {
  "kernelspec": {
   "display_name": "Python 3 (ipykernel)",
   "language": "python",
   "name": "python3"
  },
  "language_info": {
   "codemirror_mode": {
    "name": "ipython",
    "version": 3
   },
   "file_extension": ".py",
   "mimetype": "text/x-python",
   "name": "python",
   "nbconvert_exporter": "python",
   "pygments_lexer": "ipython3",
   "version": "3.9.13"
  }
 },
 "nbformat": 4,
 "nbformat_minor": 5
}
