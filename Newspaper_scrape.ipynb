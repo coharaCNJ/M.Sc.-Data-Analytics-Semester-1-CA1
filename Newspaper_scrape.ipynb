{
 "cells": [
  {
   "cell_type": "markdown",
   "id": "8128494e",
   "metadata": {},
   "source": [
    "# Sentiment analysis on Irish and Finnish newspaper aticles regarding homelessness"
   ]
  },
  {
   "cell_type": "markdown",
   "id": "dae0f41e",
   "metadata": {},
   "source": [
    "### Irish Independent"
   ]
  },
  {
   "cell_type": "code",
   "execution_count": 1,
   "id": "487b1448",
   "metadata": {},
   "outputs": [],
   "source": [
    "#!pip install newspaper3k"
   ]
  },
  {
   "cell_type": "code",
   "execution_count": 10,
   "id": "348c6973",
   "metadata": {},
   "outputs": [],
   "source": [
    "# Suppress the warnings\n",
    "import warnings\n",
    "warnings.filterwarnings('ignore')\n",
    "\n",
    "from statsmodels.tools.sm_exceptions import ValueWarning\n",
    "warnings.simplefilter('ignore', ValueWarning)"
   ]
  },
  {
   "cell_type": "code",
   "execution_count": 294,
   "id": "6554bafe",
   "metadata": {},
   "outputs": [
    {
     "name": "stderr",
     "output_type": "stream",
     "text": [
      "[nltk_data] Downloading package punkt to /home/ciara/nltk_data...\n",
      "[nltk_data]   Package punkt is already up-to-date!\n",
      "[nltk_data] Downloading package wordnet to /home/ciara/nltk_data...\n",
      "[nltk_data]   Package wordnet is already up-to-date!\n",
      "[nltk_data] Downloading package omw-1.4 to /home/ciara/nltk_data...\n",
      "[nltk_data]   Package omw-1.4 is already up-to-date!\n",
      "[nltk_data] Downloading package averaged_perceptron_tagger to\n",
      "[nltk_data]     /home/ciara/nltk_data...\n",
      "[nltk_data]   Package averaged_perceptron_tagger is already up-to-\n",
      "[nltk_data]       date!\n",
      "[nltk_data] Downloading package names to /home/ciara/nltk_data...\n",
      "[nltk_data]   Package names is already up-to-date!\n"
     ]
    }
   ],
   "source": [
    "from newspaper import Article\n",
    "import nltk\n",
    "nltk.download('punkt')\n",
    "nltk.download('wordnet')\n",
    "nltk.download('omw-1.4')\n",
    "nltk.download('averaged_perceptron_tagger')\n",
    "nltk.download('names')\n",
    "\n",
    "from nltk.corpus import stopwords\n",
    "from nltk.tokenize import word_tokenize\n",
    "from nltk.stem import PorterStemmer\n",
    "stem = PorterStemmer()\n",
    "from nltk.corpus import names\n",
    "from textblob import TextBlob\n",
    "import pandas as pd\n",
    "import seaborn as sns\n",
    "import matplotlib.pyplot as plt\n",
    "%matplotlib inline\n",
    "from numpy import sqrt\n",
    "import textwrap\n",
    "\n",
    "# Load the stop words\n",
    "stop_words = set(stopwords.words(\"english\"))\n",
    "#Load some names\n",
    "all_names = set(names.words())"
   ]
  },
  {
   "cell_type": "markdown",
   "id": "8de7587e",
   "metadata": {},
   "source": [
    "## Functions"
   ]
  },
  {
   "cell_type": "code",
   "execution_count": 295,
   "id": "6b40043a",
   "metadata": {},
   "outputs": [],
   "source": [
    "def wrap_labels(ax, width, break_long_words=False):\n",
    "    labels = []\n",
    "    for label in ax.get_xticklabels():\n",
    "        text = label.get_text()\n",
    "        labels.append(textwrap.fill(text, width=width,\n",
    "                      break_long_words=break_long_words))\n",
    "    ax.set_xticklabels(labels, rotation=0)"
   ]
  },
  {
   "cell_type": "code",
   "execution_count": 261,
   "id": "638c8c23",
   "metadata": {},
   "outputs": [],
   "source": [
    "# Create and declare a function is_letter_only()\n",
    "def is_letter_only(word):\n",
    "    for char in word:\n",
    "        if not char.isalpha():\n",
    "            return False\n",
    "    return True"
   ]
  },
  {
   "cell_type": "code",
   "execution_count": 262,
   "id": "61bf2697",
   "metadata": {},
   "outputs": [],
   "source": [
    "stemmed_filtered_cleaned = []\n",
    "\n",
    "#Function to lowercase, filter stop words and names, remove punctuation and stem the articles\n",
    "def sfc_fn(article):\n",
    "    doc = article.text.lower()\n",
    "    stemmed_filtered_cleaned = ' '.join(stem.stem(word) for word in doc.split() if is_letter_only(word) and word not in all_names)\n",
    "    return(stemmed_filtered_cleaned)"
   ]
  },
  {
   "cell_type": "code",
   "execution_count": 263,
   "id": "eb17fa66",
   "metadata": {},
   "outputs": [],
   "source": [
    "def sentiment_analysis(article):\n",
    "    txt = TextBlob(article)\n",
    "    a= txt.sentiment.polarity\n",
    "    b= txt.sentiment.subjectivity\n",
    "    return(a,b)"
   ]
  },
  {
   "cell_type": "markdown",
   "id": "4623f1fc",
   "metadata": {},
   "source": [
    "### The Irish Independent"
   ]
  },
  {
   "cell_type": "code",
   "execution_count": 36,
   "id": "6c7ffd32",
   "metadata": {},
   "outputs": [],
   "source": [
    "url = \"https://www.independent.ie/irish-news/finnish-model-shows-how-a-more-radical-approach-could-solve-homeless-problem/37456401.html\"\n",
    "\n",
    "ii_article = Article(url, language=\"en\") # en for English\n",
    " \n",
    "#To download the article\n",
    "ii_article.download()\n",
    " \n",
    "#To parse the article\n",
    "ii_article.parse()\n",
    " \n",
    "#To perform natural language processing ie. nlp\n",
    "ii_article.nlp()"
   ]
  },
  {
   "cell_type": "code",
   "execution_count": 37,
   "id": "94dd2702",
   "metadata": {},
   "outputs": [
    {
     "name": "stdout",
     "output_type": "stream",
     "text": [
      "The Government needs to adopt a more radical approach if it wants to solve the homelessness crisis, according to Juha Kaakinen, the chief executive of the Y Foundation, which owns a stock of 16,700 low-cost social housing units in Finland.\n",
      "\n",
      "In Ireland yesterday to attend a seminar hosted by the Ambassador of Finland Jaana Teckenberg on 'Housing First', a strategy to deal with those in long-term homelessness, Mr Kaakinen said Finland had completely transformed its approach to homelessness in 2008.\n",
      "\n",
      "Instead of managing homelessness, the Finnish government announced its intention to end it, opting to transform temporary accommodation, like shelters and hostels, into permanent housing units with on-site support services.\n",
      "\n",
      "For instance, the last large shelter in Helsinki, a 250-bed building, was converted in 2012 into 81 independent apartments, in which 88 residents now permanently reside.\n",
      "\n",
      "In total, since 2008, 3,500 of these units have been provided as part of the new policy.\n",
      "\n",
      "The result of this changed strategy is that Finland is now the only country in the EU where homelessness is declining and where family homelessness and rough sleeping has been virtually eradicated.\n",
      "\n",
      "Although Housing First has been operating across Dublin's four local authorities since 2014, and is now being rolled out across the country, Mr Kaakinen said he was \"not convinced\" by the relatively low numbers who are being targeted.\n",
      "\n",
      "Speaking to the Irish Independent yesterday, he said there was an over-reliance on emergency accommodation, such as shelters and homeless hubs, in Ireland and that these temporary solutions ultimately provide \"more of an obstacle than a solution\".\n",
      "\n",
      "\"People think, in a homeless crisis, that you need to provide emergency accommodation to deal with the problem, but it never works. You need to take a more radical step and totally change the structure.\n",
      "\n",
      "\"In Finland, we are very pragmatic. We looked at the information and the statistics and decided that 2,500 flats was a starting point and then we implemented that,\" he said.\n",
      "\n",
      "Mr Kaakinen said that while Ireland's Housing First initiative is targeting 737 chronically homeless people over the next three years, that in the context of a homeless crisis in which nearly 10,000 people are now living in emergency accommodation, he was \"not convinced\" by those numbers, believing them to be too low.\n",
      "\n",
      "\"In Finland, we completely changed our entire approach to dealing with homelessness on a national level. In Ireland, it seems that there are small projects that being upscaled but these projects are too small to have any real impact on the numbers of homeless,\" he said.\n",
      "\n",
      "Bob Jordan, the National Director of Housing First in Ireland, defended the strategy as just \"one part of an overall integrated strategy\" - Rebuilding Ireland.\n",
      "\n",
      "He said that, since 2014, 214 homeless individuals had secured tenancies in Dublin as part of the Housing First programme and that over 85pc of these people had remained permanently out of homelessness.\n",
      "\n",
      "\"This isn't a plan to end homelessness, it's a plan to reduce long-term homelessness,\" he said, noting the individuals who would benefit from the scheme are those with a history of rough sleeping and complex needs around mental health and addiction.\n",
      "\n",
      "However, he did concede that \"the elephant in the room is supply, particularly single-person housing units\", echoing Mr Kaakinen's observation that \"you can't have Housing First without housing\".\n"
     ]
    }
   ],
   "source": [
    "print(ii_article.text)"
   ]
  },
  {
   "cell_type": "markdown",
   "id": "822314d5",
   "metadata": {},
   "source": [
    "### Irish Times"
   ]
  },
  {
   "cell_type": "code",
   "execution_count": 14,
   "id": "0c2a65e8",
   "metadata": {},
   "outputs": [],
   "source": [
    "from newspaper import Article\n",
    " \n",
    "#A new article from TOI\n",
    "url = \"https://www.irishtimes.com/ireland/social-affairs/2023/05/09/homeless-response-should-focus-on-needs-of-children/\"\n",
    "\n",
    "#For different language newspaper refer above table\n",
    "it_article = Article(url, language=\"en\") # en for English\n",
    " \n",
    "#To download the article\n",
    "it_article.download()\n",
    " \n",
    "#To parse the article\n",
    "it_article.parse()\n",
    " \n",
    "#To perform natural language processing ie. nlp\n",
    "it_article.nlp()"
   ]
  },
  {
   "cell_type": "code",
   "execution_count": 18,
   "id": "1b488ed2",
   "metadata": {
    "scrolled": true
   },
   "outputs": [
    {
     "name": "stdout",
     "output_type": "stream",
     "text": [
      "A new campaign seeks to require local authorities to take the ‘best interests of the child’ into account when working with families who are homeless. Photograph: PA Images\n",
      "\n",
      "A campaign to require local authorities to take the ‘best interests of the child’ into account when working with families who are homeless will today be unveiled by Focus Ireland.\n",
      "\n",
      "At the end of March 2023, there were 3,472 children in emergency accommodation, an increase of 662 children since March last year.\n",
      "\n",
      "Mike Allen, the director of advocacy with Focus Ireland, told RTÉ Radio’s Morning Ireland that local authority staff were working extremely hard to deal with this crisis but needed more direction, training and support.\n",
      "\n",
      "Focus Ireland is calling for the reintroduction and passing into law of the Housing (Homeless Families) Bill 2017, a piece of Private Members’ legislation introduced into the Dáil in 2017 by Jan O’Sullivan.\n",
      "\n",
      "READ MORE\n",
      "\n",
      "The Bill aimed to amend the 1988 Housing Act so that local authorities would be required to consider the ‘best interests of the child’ in their decision making when a family presented as homeless.\n",
      "\n",
      "Under the legislation, which the campaign is calling to be enacted, local authorities would be required to apply that test, said Mr Allen.\n",
      "\n",
      "Local authorities are currently saying to families seeking help: “go back to your brother or your sister or a friend and stay with them and sleep on their sofa for the next while until you can sort yourself out”, Mr Allen said.\n",
      "\n",
      "But no checks were being made to see if that was in the best interest of the child, he added.\n",
      "\n",
      "Mr Allen said that the legislation would not “solve all the problems” but that its great advantage was its simplicity and its clarity.\n",
      "\n",
      "We could spend another five years doing some really elaborate piece of legislation and getting it through the Dáil “or we could do something that would begin to make a difference,” he said.\n",
      "\n",
      "“Experiencing homelessness is a dreadful thing for anybody, man, woman or child, but particularly for children. It’s an appalling experience,” Mr Allen said.\n",
      "\n",
      "“First of all, there’s the trauma of losing your home where you think you’re comfortable, where you feel safe, where your toys are, your friends are, your all of your relationships.\n",
      "\n",
      "“The loss of their home is traumatic in the first place. Then emergency accommodation may be a long way from your school and there may be no place for doing homework. You can’t invite your friends around. You lose all that sort of social contact,” he said.\n",
      "\n",
      "“And still, despite the fact that we’ve been in a homeless crisis affecting families for almost ten years now, there’s an awful lot of stigma involved in it for the children. And children are ashamed to say they’re homeless to their friends. And their parents are still ashamed of something that is not their fault at all.\n",
      "\n",
      "“That shame and that stigma can lead to even deeper social isolation and problems,” he said.\n",
      "\n",
      "Mr Allen said that the level of response to the crisis by the country had been “slapdash”.\n",
      "\n",
      "“We’ve always treated the family homeless crisis as the thing that’s a flash in the pan, that is going to go away, and we have never put in place proper structures, procedures to make sure that we reduce the impact of the harm.”\n",
      "\n",
      "On the issue of housing, he said Ireland was “behaving worse” than it did when the country was poorer.\n"
     ]
    }
   ],
   "source": [
    "print(it_article.text)"
   ]
  },
  {
   "cell_type": "markdown",
   "id": "231ceb65",
   "metadata": {},
   "source": [
    "### The Journal"
   ]
  },
  {
   "cell_type": "code",
   "execution_count": 20,
   "id": "ea56e61c",
   "metadata": {},
   "outputs": [],
   "source": [
    "from newspaper import Article\n",
    " \n",
    "#A new article from TOI\n",
    "url = \"https://www.thejournal.ie/finland-homeless-housing-first-ireland-4303419-Oct2018/\"\n",
    "\n",
    "#For different language newspaper refer above table\n",
    "j_article = Article(url, language=\"en\") # en for English\n",
    " \n",
    "#To download the article\n",
    "j_article.download()\n",
    " \n",
    "#To parse the article\n",
    "j_article.parse()\n",
    " \n",
    "#To perform natural language processing ie. nlp\n",
    "j_article.nlp()"
   ]
  },
  {
   "cell_type": "code",
   "execution_count": 22,
   "id": "ec93c3a9",
   "metadata": {
    "scrolled": false
   },
   "outputs": [
    {
     "name": "stdout",
     "output_type": "stream",
     "text": [
      "LAST MONTH, THE government announced its intention to expand its Housing First plan, which aims to reduce and end rough sleeping and long-term homelessness, from Dublin and across the country.\n",
      "\n",
      "In the past, homelessness services in Ireland and much of Europe and the US were geared towards a staircase model of recovery.\n",
      "\n",
      "Under this, a homeless person would have to advance towards a home by first proving that they could live in a homeless shelter, maybe successfully complete drug or alcohol rehabilitation programmes, and essentially work their up way to a secure, permanent home.\n",
      "\n",
      "Housing First flipped this model on its head – with a secure, safe, permanent home with support being the primary goal; and recovery, therapy or whatever else is needed coming after that.\n",
      "\n",
      "The approach was pioneered in 1992 in New York by Dr Sam Tsemberis. In Ireland, a shift away from the staircase model and towards Housing First was signalled in the 2011 Programme for Government.\n",
      "\n",
      "While this programme has been up and running in Ireland for a number of years, the widespread implementation of it is a work in progress.\n",
      "\n",
      "Ireland isn’t the only country in Europe which has had a major crisis when it comes to homelessness. Many others have too. But unlike its neighbours, one, in particular, has succeeded in significantly lowering its homeless rate by using the Housing First model.\n",
      "\n",
      "In the 1980s, close to 20,000 people were homeless in Finland. Today that number is closer to 6,600.\n",
      "\n",
      "So, as the new Housing First implementation plan was published in Ireland last month, let’s take a look at how Finland succeeded in its use of the programme.\n",
      "\n",
      "Housing First in Finland\n",
      "\n",
      "Finland cut the number of homeless people in the country in half between 1987 and 1996.\n",
      "\n",
      "But by 2003, however, the decline in the homelessness population had slowed down significantly, with the number hovering around the 8,000 mark. The consensus was that the homeless who had been easier to house had been housed, leaving behind the long-term homeless.\n",
      "\n",
      "This cohort of people made up about 40% of the homeless population in 2008. Typically they would have had a myriad of social and health problems, requiring a lot of care.\n",
      "\n",
      "Sam Boal Tents belonging to homeless people in Dublin Sam Boal\n",
      "\n",
      "Enter the housing first programme, which was rolled out across 10 cities in Finland in 2008 (an 11th city was later added).\n",
      "\n",
      "It has been the centre of the Finnish government’s policy towards ending homelessness since 2008. And it’s working, as is evident from the figures above.\n",
      "\n",
      "No more hostels\n",
      "\n",
      "What has made the Finnish approach Housing First so striking was the removal of almost every shelter and emergency accommodation unit. They were turned into supported housing units with independent flats for the tenants. On-site personnel are available at the properties.\n",
      "\n",
      "“The idea was to provide housing for long-term homeless people. That meant we had to do something to the existing shelters and hostels,” Juha Kaakinen, CEO of the Y-Foundation, the organisation which has spearheaded the housing first programme in Finland, said.\n",
      "\n",
      "In many cases, [emergency accommodation] isn’t the solution for homelessness for many rough sleepers, it’s also an obstacle. It’s not something that they want. There are people who prefer to sleep rough if the only solution is living in temporary accommodation.\n",
      "\n",
      "Kaakinen was speaking during a discussion on tackling homelessness in Finland and Ireland yesterday.\n",
      "\n",
      "He noted one specific example in Helsinki.\n",
      "\n",
      "Advertisement\n",
      "\n",
      "Alppikatu 25 opened as a 250-bed shelter in 1936. Since 2012, it has been converted into supported housing units. Now, 81 independent rental apartments house 88 residents. On-site personnel is provided by the Salvation Army.\n",
      "\n",
      "Only one hostel with 52 temporary beds remains open in Helsinki.\n",
      "\n",
      "Leon Farrell A rough sleeper on the streets of Dublin. Leon Farrell\n",
      "\n",
      "Since Housing First was launched in Finland, rough sleeping has essentially ceased to exist.\n",
      "\n",
      "It is worth noting at this point that government support and financing has been integral to the programme’s success in Finland.\n",
      "\n",
      "The movement from hostels to homes was achieved through an ambitious, state-sponsored programme of renovating emergency shelters, building new houses and acquiring other homes through the private rental sector.\n",
      "\n",
      "This has resulted in around 3,000 new homes brought onstream specifically for homeless people since 2008.\n",
      "\n",
      "So, can the Housing First programme actually work in Ireland?\n",
      "\n",
      "Dublin Housing First has been operating since 2014, overseen by workers from the Focus Ireland and the Peter McVerry Trust, following a successful pilot.\n",
      "\n",
      "Under Rebuilding Ireland, the government pledged to triple the targets for tenancies to be provided by Housing First teams in Dublin, from 100 tenancies to 300 by the end of last year.\n",
      "\n",
      "Speaking to TheJounal.ie at yesterday’s discussion, National Director of Housing First Bob Jordan said that the goal “wasn’t quite achieved”. So far, 214 individuals have been helped through the programme.\n",
      "\n",
      "Nevertheless, last month saw the launch of the Housing First National Implementation Plan 2018-2021.\n",
      "\n",
      "The plan was widely welcomed by housing and homeless charities across the country.\n",
      "\n",
      "While it has shown strong successes in providing homes for long-term rough sleepers, the programme can only meet its full potential if adequate housing units are built.\n",
      "\n",
      "“What we’re trying to do is identify a stock of Housing First units because it’s really the units that dictate the pace,” Jordan said.\n",
      "\n",
      "Eamonn Farrell Building workers on a estate in Co Kildare Eamonn Farrell\n",
      "\n",
      "So, what does this new government plan aim to achieve?\n",
      "\n",
      "Provide a total of 663 permanent, secure tenancies across 31 local authorities for people with a history of rough sleeping or long-term use of emergency accommodation with complex needs.\n",
      "\n",
      "Provide the vast majority of Housing First tenants with permanent social housing, allocated by local authorities.\n",
      "\n",
      "Ensure that complex needs around mental health, alcohol and drug addiction will be addressed with up to daily support visits delivered by housing and health support teams.\n",
      "\n",
      "Meanwhile, converting all of Dublin’s emergency accommodation into homes would be a radical solution to the problem, but the government have given no indication that this is a course of action they would follow.\n",
      "\n",
      "Latest figures from the Department of Housing show that there were 5,869 adults and 3,829 children in emergency accommodation in Ireland during the recorded period in September – a total of 9,698 people.\n",
      "\n",
      "With those figures in mind, TheJournal.ie asked Jordon is Housing First in Ireland will make a significant change to the level of homelessness the country is currently experiencing.\n",
      "\n",
      "“While we’re dealing with a narrow group of people here, the guts of 750 people to begin with, they are people with quite deep issues around addiction and mental health,” he said.\n",
      "\n",
      "If we can resolve it for the hardest person, then it’s pretty clear that we can create a system that works for everybody.\n",
      "\n",
      "When asked if he thinks the programme can become a success in Ireland, Kaakinen added: “I really hope that it will really change things because I was here over a year ago and I think that the situation is even worse than it was at that time.\n",
      "\n",
      "“So, I really would like to see this plan and programme to be put into practice and become a reality.\n",
      "\n",
      "Papers don’t end homelessness, it’s action that’s needed.\n",
      "\n",
      "With reporting by Cormac Fitzgerald.\n"
     ]
    }
   ],
   "source": [
    "print(j_article.text)"
   ]
  },
  {
   "cell_type": "code",
   "execution_count": 162,
   "id": "7d1f9cb7",
   "metadata": {},
   "outputs": [],
   "source": [
    "j_article_processed = sfc_fn(j_article)"
   ]
  },
  {
   "cell_type": "markdown",
   "id": "fedd11bf",
   "metadata": {},
   "source": [
    "### Helsinki Times"
   ]
  },
  {
   "cell_type": "code",
   "execution_count": 23,
   "id": "7087a46d",
   "metadata": {},
   "outputs": [],
   "source": [
    "url = \"https://www.helsinkitimes.fi/finland/finland-news/domestic/22934-homelessness-can-be-eradicated-by-2027-with-close-cooperation-report.html\"\n",
    "\n",
    "ht_article = Article(url, language=\"en\") # en for English\n",
    " \n",
    "#To download the article\n",
    "ht_article.download()\n",
    " \n",
    "#To parse the article\n",
    "ht_article.parse()\n",
    " \n",
    "#To perform natural language processing ie. nlp\n",
    "ht_article.nlp()"
   ]
  },
  {
   "cell_type": "code",
   "execution_count": 24,
   "id": "ca58b0fe",
   "metadata": {},
   "outputs": [
    {
     "name": "stdout",
     "output_type": "stream",
     "text": [
      "The report commissioned by the Ministry of the Environment explores the trends in homelessness and means by which homelessness can be eradicated. Rapporteur Juha Kaakinen urges to continue the work in line with the Housing First principle and to further develop this so that support is readily available and serves homelessness that may be due to varying reasons in diverse ways. A key focus should be on groups that need services and support the most.\n",
      "\n",
      "\"Today, there is a broad consensus on the need to eradicate homelessness in Finland, but some time ago this was considered a utopian target. Now we just have to take concrete steps to achieve it. We need a national programme to eradicate homelessness by 2027. It is important that all political parties will commit to this programme and to ensuring adequate resources for it,\" Minister of the Environment and Climate Change Maria Ohisalo says.\n",
      "\n",
      "Finland has managed to reverse the trend in homelessness\n",
      "\n",
      "Finland is the only country in Europe where homelessness is decreasing. Besides Finland, there have been positive developments in Norway and, more recently, in Denmark and Scotland.\n",
      "\n",
      "According to statistics of the Housing Finance and Development Centre of Finland (ARA), in 2008–2022 the number of homeless people living alone decreased by 54% and the number of people experiencing long-term homelessness by 68%.\n",
      "\n",
      "In November there were 3,686 homeless people living alone and 1,133 people experiencing long-term homelessness. From 2021 the number of homeless people living alone decreased by 262 and the number of people experiencing long-term homelessness by 185. What is quite worrying is that since 2021 homelessness has increased among young people under 25 years of age.\n",
      "\n",
      "The target set in the Programme of Prime Minister Sanna Marin's Government is to halve the number of homeless people by 2023 and eradicate homelessness by 2027. In 2018, which is used as the reference year, the number of homeless people living alone was 4,882 and the number of homeless families was 159. According to the report, the eradication of homelessness by 2027 is still a realistic target even if the target to halve the number of homeless people has not yet been met.\n",
      "\n",
      "\"The long-term effort has produced good results and the large group of professionals who are committed to the target and to working together builds faith. A strong culture of collaboration and political will have made it possible to reduce homelessness and to see its eradication as a realistic target,\" Rapporteur Juha Kaakinen says. In practice, eradication of homelessness in Finland means that there are no people living outdoors, and no one is discharged from any institution without an offer of appropriate housing.\n",
      "\n",
      "Need for multi-professional, low-threshold support\n",
      "\n",
      "The report suggests that the work in line with the Housing First principle should continue: access to housing does not require changing one's lifestyles or getting healthy. According to the report, the methodology should be developed in a way that strengthens the understanding of the customers' situation, respectful encounters and a rehabilitating approach to the work. A particular focus must be on reaching and helping people who are in the most vulnerable position or have been marginalised.\n",
      "\n",
      "The group of experts heard during the process considered strong participation of the State as very important. Eradicating homelessness should be a common cause. It requires new kinds of partnerships and collaborative efforts, where the wellbeing services counties and municipalities are in a key position. Services must be available locally even if the responsibility for organising them rests with the broader shoulders of the wellbeing services counties.\n",
      "\n",
      "Attention should be paid to decentralised, mobile and specialised services that help people experiencing long-term homelessness, in particular. We must also ensure that there will be no new people faced with homelessness, even if growing numbers of people are at risk of losing their apartment for economic reasons. This is why multi-professional housing advice and prevention of evictions are important.\n",
      "\n",
      "The report proposes a national programme that would strengthen coordination and funding. The key issues to be developed raised in the report are permanent housing solutions and round-the-clock housing service that aim to minimise temporary solutions. More research and better utilisation of empty apartments are also needed.\n",
      "\n",
      "HT\n",
      "\n",
      "Source: Ministry of the Environment\n"
     ]
    }
   ],
   "source": [
    "print(ht_article.text)"
   ]
  },
  {
   "cell_type": "markdown",
   "id": "3ca858d8",
   "metadata": {},
   "source": [
    "### The Guardian"
   ]
  },
  {
   "cell_type": "code",
   "execution_count": 29,
   "id": "e7b96b0b",
   "metadata": {},
   "outputs": [],
   "source": [
    "url = \"https://www.theguardian.com/cities/2019/jun/03/its-a-miracle-helsinkis-radical-solution-to-homelessness\"\n",
    "\n",
    "g_article = Article(url, language=\"en\") # en for English\n",
    " \n",
    "#To download the article\n",
    "g_article.download()\n",
    " \n",
    "#To parse the article\n",
    "g_article.parse()\n",
    " \n",
    "#To perform natural language processing ie. nlp\n",
    "g_article.nlp()"
   ]
  },
  {
   "cell_type": "code",
   "execution_count": 31,
   "id": "83728ccd",
   "metadata": {},
   "outputs": [
    {
     "name": "stdout",
     "output_type": "stream",
     "text": [
      "Tatu Ainesmaa turns 32 this summer, and for the first time in more than a decade he has a home he can truly say is his: an airy two-room apartment in a small, recently renovated block in a leafy suburb of Helsinki, with a view over birch trees.\n",
      "\n",
      "“It’s a big miracle,” he says. “I’ve been in communes, but everyone was doing drugs and I’ve had to get out. I’ve been in bad relationships; same thing. I’ve been on my brother’s sofa. I’ve slept rough. I’ve never had my own place. This is huge for me.”\n",
      "\n",
      "Downstairs in the two-storey block is a bright communal living and dining area, a spotless kitchen, a gym room and a sauna (in Finland, saunas are basically obligatory). Upstairs is where the 21 tenants, men and women, most under 30, live.\n",
      "\n",
      "It was clear to everyone the old system wasn’t working. We needed radical change Juha Kaakinen\n",
      "\n",
      "It is important that they are tenants: each has a contract, pays rent and (if they need to) applies for housing benefit. That, after all, is all part of having a home – and part of a housing policy that has now made Finland the only EU country where homelessness is falling.\n",
      "\n",
      "When the policy was being devised just over a decade ago, the four people who came up with what is now widely known as the Housing First principle – a social scientist, a doctor, a politician and a bishop – called their report Nimi Ovessa (Your Name on the Door).\n",
      "\n",
      "“It was clear to everyone the old system wasn’t working; we needed radical change,” says Juha Kaakinen, the working group’s secretary and first programme leader, who now runs the Y-Foundation developing supported and affordable housing.\n",
      "\n",
      "Juha Kaakinen, CEO of the Y-Foundation, which provides low-cost flats to homeless people across Finland. Photograph: Kirsi Tuura\n",
      "\n",
      "“We had to get rid of the night shelters and short-term hostels we still had back then. They had a very long history in Finland, and everyone could see they were not getting people out of homelessness. We decided to reverse the assumptions.”\n",
      "\n",
      "As in many countries, homelessness in Finland had long been tackled using a staircase model: you were supposed to move through different stages of temporary accommodation as you got your life back on track, with an apartment as the ultimate reward.\n",
      "\n",
      "“We decided to make the housing unconditional,” says Kaakinen. “To say, look, you don’t need to solve your problems before you get a home. Instead, a home should be the secure foundation that makes it easier to solve your problems.”\n",
      "\n",
      "With state, municipal and NGO backing, flats were bought, new blocks built and old shelters converted into permanent, comfortable homes – among them the Rukkila homeless hostel in the Helsinki suburb of Malminkartano where Ainesmaa now lives.\n",
      "\n",
      "Q&A When Europe gets it right Show As a series of crises puts Europe under strain, some cities are fighting back with innovative solutions. From hyper-specialist shops beating the online threat in Berlin to the Bulgarian city reversing the country's brain drain, from the Italian city finding new ways to tackle addiction to gambling to the Swedish town that has found innovative ways to combat extremism, we look at what European cities are doing to live better in our increasingly urban world. Was this helpful? Thank you for your feedback.\n",
      "\n",
      "Housing First’s early goal was to create 2,500 new homes. It has created 3,500. Since its launch in 2008, the number of long-term homeless people in Finland has fallen by more than 35%. Rough sleeping has been all but eradicated in Helsinki, where only one 50-bed night shelter remains, and where winter temperatures can plunge to -20C.\n",
      "\n",
      "The city’s deputy mayor Sanna Vesikansa says that in her childhood, “hundreds in the whole country slept in the parks and forests. We hardly have that any more. Street sleeping is very rare now.”\n",
      "\n",
      "In England, meanwhile, government figures show the number of rough sleepers – a small fraction of the total homeless population – climbed from 1,768 in 2010 to 4,677 last year (and since the official count is based on a single evening, charities say the real figure is far higher).\n",
      "\n",
      "But Housing First is not just about housing. “Services have been crucial,” says Helsinki’s mayor, Jan Vapaavuori, who was housing minister when the original scheme was launched. “Many long-term homeless people have addictions, mental health issues, medical conditions that need ongoing care. The support has to be there.”\n",
      "\n",
      "At Rukkila, seven staff support 21 tenants. Assistant manager Saara Haapa says the work ranges from practical help navigating bureaucracy and getting education, training and work placements to activities including games, visits and learning – or re-learning – basic life skills such as cleaning and cooking.\n",
      "\n",
      "Tatu Ainesmaa’s new home: Rukkila in Malminkartano, Helsinki. Photograph: Sampsa Kettunen/Y-Foundation\n",
      "\n",
      "“A lot of it is really about talking,” says Henna Ahonen, a trainee social worker. And that is “easier when you are actually doing something together, rather than in a formal interview”, Haapa says. “The connection is just … easier. You can spot problems more readily.”\n",
      "\n",
      "Hardly any of the tenants come straight from the street, Haapa says, and those who do can take time to adjust to living indoors. But after a three-month trial, tenants’ contracts are permanent – they can’t be moved unless they break the rules (Rukkila does not allow drug or alcohol use; some other Housing First units do) or fail to pay the rent.\n",
      "\n",
      "Some stay seven years or more; others leave after one or two. In 2018, six tenants moved out to lead fully independent lives, Haapa says. One is now a cleaner, living in her own flat; another studied for a cookery qualification during his five years at Rukkila and now works as a chef.\n",
      "\n",
      "Ainesmaa is on a two-year work experience programme designed to lead to a job. He says the opportunity to sort himself out was priceless: “Look, I own nothing. I’m on the autism spectrum. I think people are my friends, and then they rip me me off. I’ve been ripped off … a lot. But now I have my place. It’s mine. I can build.”\n",
      "\n",
      "Housing First costs money, of course: Finland has spent €250m creating new homes and hiring 300 extra support workers. But a recent study showed the savings in emergency healthcare, social services and the justice system totalled as much as €15,000 a year for every homeless person in properly supported housing.\n",
      "\n",
      "Interest in the policy beyond the country’s borders has been exceptional, from France to Australia, says Vesikansa. The British government is funding pilot schemes in Merseyside, the West Midlands and Greater Manchester, whose Labour mayor, Andy Burnham, is due in Helsinki in July to see the policy in action.\n",
      "\n",
      "But if Housing First is working in Helsinki, where half the country’s homeless people live, it is also because it is part of a much broader housing policy. More pilot schemes serve little real purpose, says Kaakinen: “We know what works. You can have all sorts of projects, but if you don’t have the actual homes … A sufficient supply of social housing is just crucial.”\n",
      "\n",
      "An under-construction district of Helsinki in 2013. Photograph: Hannu Mononen/Alamy Stock Photo\n",
      "\n",
      "And there, the Finnish capital is fortunate. Helsinki owns 60,000 social housing units; one in seven residents live in city-owned housing. It also owns 70% of the land within the city limits, runs its own construction company, and has a current target of building 7,000 more new homes – of all categories – a year.\n",
      "\n",
      "In each new district, the city maintains a strict housing mix to limit social segregation: 25% social housing, 30% subsidised purchase, and 45% private sector. Helsinki also insists on no visible external differences between private and public housing stock, and sets no maximum income ceiling on its social housing tenants.\n",
      "\n",
      "It has invested heavily, too, in homelessness prevention, setting up special teams to advise and help tenants in danger of losing their homes and halving the number of evictions from city-owned and social housing from 2008 to 2016.\n",
      "\n",
      "“We own much of the land, we have a zoning monopoly, we run our own construction company,” says Riikka Karjalainen, senior planning officer. “That helped a lot with Housing First because simply, there is no way you will eradicate homelessness without a serious, big-picture housing policy.”\n",
      "\n",
      "Finland has not entirely solved homelessness. Nationwide, about 5,500 people are still officially classified as homeless. The overwhelming majority – more than 70% – are living temporarily with friends or relatives.\n",
      "\n",
      "But public-sector planning and collective effort have helped ensure that as a way to reduce long-term homelessness, Housing First is a proven success. “We’re not there yet, of course,” says Vesikansa. “No model is perfect; we still have failures. But I’m proud we had the courage to try it.”\n",
      "\n",
      "The mayor agrees. “We have reduced long-term homelessness by a remarkable amount,” he says. “We must do more – better support, better prevention, better dialogue with residents: people really support this policy, but not everyone wants a unit in their neighbourhood … But yes, we can be very proud.”\n",
      "\n",
      "Follow Guardian Cities on Twitter, Facebook and Instagram to join the discussion, catch up on our best stories or sign up for our weekly newsletter\n"
     ]
    }
   ],
   "source": [
    "print(g_article.text)"
   ]
  },
  {
   "cell_type": "markdown",
   "id": "eb23a6f8",
   "metadata": {},
   "source": [
    "### YLE"
   ]
  },
  {
   "cell_type": "code",
   "execution_count": 33,
   "id": "42014846",
   "metadata": {},
   "outputs": [],
   "source": [
    "url = \"https://yle.fi/a/3-12409059\"\n",
    "\n",
    "yle_article = Article(url, language=\"en\") # en for English\n",
    "\n",
    "#To download the article\n",
    "yle_article.download()\n",
    " \n",
    "#To parse the article\n",
    "yle_article.parse()\n",
    " \n",
    "#To perform natural language processing ie. nlp\n",
    "yle_article.nlp()"
   ]
  },
  {
   "cell_type": "code",
   "execution_count": 34,
   "id": "22f1c938",
   "metadata": {},
   "outputs": [
    {
     "name": "stdout",
     "output_type": "stream",
     "text": [
      "Long-term homelessness increased this past year, despite an overall decrease of homelessness.\n",
      "\n",
      "Despite progress through the 'Housing First' initiative, long-term homelessness has increased in Finland.\n",
      "\n",
      "Finland's policy of 'Housing First' has often been lauded in international media, with claims that the country has \"solved homelessness\".\n",
      "\n",
      "The reality is that homelessness in Finland has been reduced at a record rate through the 'Housing First' principle, but around 4,000 in Finland remain without a home and the number of long-term homeless individuals rose in the past year.\n",
      "\n",
      "The 'Housing First' initiative has made the primary focus of helping homeless people getting them long-term, stable housing. The programme holds that only after housing has been provided should any other problems, such as substance abuse or mental health issues, be dealt with.\n",
      "\n",
      "The government program has a goal of eradicating homelessness by 2027.\n",
      "\n",
      "In Helsinki, the number of homeless people changed from 4,340 in 2020 to 3,950 at the end of 2021. Despite the overall number of those experiencing homelessness diminishing, the numbers for long-term homelessness show a less positive trend.\n",
      "\n",
      "In 2020, exactly 1,060 were experiencing long-term homelessness while in 2021 that number was 1,320.\n",
      "\n",
      "Jussi Lehtonen, the housing manager of No Fixed Abode (VVA) — an organisation working to offer housing solutions to the homeless — told Yle that he knows there is a sizeable number of people in tough situations around the Helsinki region.\n",
      "\n",
      "\"The number of the most vulnerable people has increased in the Helsinki metropolitan area,\" Lehtonen said.\n",
      "\n",
      "According to Lehtonen, only a small proportion of the homeless population spend all their nights on the streets or in stairwells. More typically, nights are spent in emergency accommodations, shelters, longer-term options and public toilets.\n",
      "\n",
      "Year-long queue for housing\n",
      "\n",
      "Individuals in situations like this can apply for a place in housing units, but the queue for this type of housing is more than a year long. For a long-term homeless person, this queue means a year on the streets and trying to find accommodation each night.\n",
      "\n",
      "The opening of a new temporary housing unit shows that there are not enough affordable housing options and housing support, according to Teija Ojankoski, CEO of the Y-Foundation, which implements the 'housing first' approach.\n",
      "\n",
      "\"This is a constant, big question in all growing urban areas. More affordable housing is needed,\" Ojankoski explained to Yle.\n",
      "\n",
      "The pandemic seriously affected long-term homelessness, according to Lehtonen, and this is not the only issue affecting efforts to house those who need it.\n",
      "\n",
      "\"One issue is the sote (social and healthcare) reform, which has critical issues that are still unclear for homelessness. Another concern is the situation of Ukrainian refugees, which may have longer term effects as well,\" Ojankoski added.\n",
      "\n",
      "The sote reform is the allocation of social and healthcare services to new regional bodies, instead of municipalities. It still leaves the question open over whether the distribution of services related to homelessness fall under the municipalities or the newly formed welfare areas.\n",
      "\n",
      "The influx of an estimated 80,000 Ukrainians is more pressing for the current homeless situation as municipalities are searching for possible apartments to house them.\n",
      "\n",
      "Ojankoski assessed that the Ukrainians do not have an immediate impact on the housing situation so far, as they are currently housed outside cities or on their outskirts.\n",
      "\n",
      "\"However, history has shown that when conditions level off, the demand for larger cities grows. There is a risk that the number of applicants for affordable housing will increase significantly and thus limit the access of housing to others,\" Ojankoski emphasised.\n"
     ]
    }
   ],
   "source": [
    "print(yle_article.text)"
   ]
  },
  {
   "cell_type": "markdown",
   "id": "9db11976",
   "metadata": {},
   "source": [
    "## Sentiment analysis"
   ]
  },
  {
   "cell_type": "code",
   "execution_count": 259,
   "id": "9f37b85b",
   "metadata": {},
   "outputs": [],
   "source": [
    "sentiment_df = pd.DataFrame(columns=['Newspaper', 'Polarity', 'Subjectivity'])\n",
    "newspapers = [\"The Irish Independent\", \"Irish Times\", \"The Journal\", \"Helsinki Times\", \"The Guardian\", \"YLE\"]\n",
    "articles = [ii_article, it_article, j_article, ht_article, g_article, yle_article]\n",
    "sentiment_df['Newspaper'] = newspapers\n",
    "count=0\n",
    "for i in articles:\n",
    "    article_processed = sfc_fn(i)\n",
    "    sentiment_analysis(article_processed)\n",
    "    sentiment_df[\"Polarity\"][count] = sentiment_analysis(article_processed)[0]\n",
    "    sentiment_df[\"Subjectivity\"][count] = sentiment_analysis(article_processed)[1]\n",
    "    count += 1"
   ]
  },
  {
   "cell_type": "code",
   "execution_count": 260,
   "id": "b5f52784",
   "metadata": {},
   "outputs": [
    {
     "data": {
      "text/html": [
       "<div>\n",
       "<style scoped>\n",
       "    .dataframe tbody tr th:only-of-type {\n",
       "        vertical-align: middle;\n",
       "    }\n",
       "\n",
       "    .dataframe tbody tr th {\n",
       "        vertical-align: top;\n",
       "    }\n",
       "\n",
       "    .dataframe thead th {\n",
       "        text-align: right;\n",
       "    }\n",
       "</style>\n",
       "<table border=\"1\" class=\"dataframe\">\n",
       "  <thead>\n",
       "    <tr style=\"text-align: right;\">\n",
       "      <th></th>\n",
       "      <th>Newspaper</th>\n",
       "      <th>Polarity</th>\n",
       "      <th>Subjectivity</th>\n",
       "    </tr>\n",
       "  </thead>\n",
       "  <tbody>\n",
       "    <tr>\n",
       "      <th>0</th>\n",
       "      <td>The Irish Independent</td>\n",
       "      <td>0.08581</td>\n",
       "      <td>0.343444</td>\n",
       "    </tr>\n",
       "    <tr>\n",
       "      <th>1</th>\n",
       "      <td>Irish Times</td>\n",
       "      <td>0.14214</td>\n",
       "      <td>0.223685</td>\n",
       "    </tr>\n",
       "    <tr>\n",
       "      <th>2</th>\n",
       "      <td>The Journal</td>\n",
       "      <td>0.077904</td>\n",
       "      <td>0.331291</td>\n",
       "    </tr>\n",
       "    <tr>\n",
       "      <th>3</th>\n",
       "      <td>Helsinki Times</td>\n",
       "      <td>0.161925</td>\n",
       "      <td>0.546147</td>\n",
       "    </tr>\n",
       "    <tr>\n",
       "      <th>4</th>\n",
       "      <td>The Guardian</td>\n",
       "      <td>0.163302</td>\n",
       "      <td>0.3971</td>\n",
       "    </tr>\n",
       "    <tr>\n",
       "      <th>5</th>\n",
       "      <td>YLE</td>\n",
       "      <td>0.038954</td>\n",
       "      <td>0.404193</td>\n",
       "    </tr>\n",
       "  </tbody>\n",
       "</table>\n",
       "</div>"
      ],
      "text/plain": [
       "               Newspaper  Polarity Subjectivity\n",
       "0  The Irish Independent   0.08581     0.343444\n",
       "1            Irish Times   0.14214     0.223685\n",
       "2            The Journal  0.077904     0.331291\n",
       "3         Helsinki Times  0.161925     0.546147\n",
       "4           The Guardian  0.163302       0.3971\n",
       "5                    YLE  0.038954     0.404193"
      ]
     },
     "execution_count": 260,
     "metadata": {},
     "output_type": "execute_result"
    }
   ],
   "source": [
    "sentiment_df"
   ]
  },
  {
   "cell_type": "code",
   "execution_count": 279,
   "id": "2893cb2a",
   "metadata": {},
   "outputs": [],
   "source": [
    "sentiment_df[\"Bias\"] = [\"RIGHT-CENTER\", \"LEFT-CENTER\", \"LEFT-CENTER\", \"LEFT-CENTER\", \"LEFT-CENTER\", \"CENTRE\"]"
   ]
  },
  {
   "cell_type": "markdown",
   "id": "4854982d",
   "metadata": {},
   "source": [
    "## Visualisation"
   ]
  },
  {
   "cell_type": "code",
   "execution_count": 299,
   "id": "97af2601",
   "metadata": {},
   "outputs": [
    {
     "data": {
      "image/png": "[encoded data removed]",
      "text/plain": [
       "<Figure size 800x565.685 with 1 Axes>"
      ]
     },
     "metadata": {},
     "output_type": "display_data"
    }
   ],
   "source": [
    "#Median central-tendency is used as data is non-parametric\n",
    "a4_dims = (8, 8/sqrt(2))\n",
    "fig, ax = plt.subplots(figsize=a4_dims)\n",
    "ax=sns.barplot(x=\"Newspaper\", y=\"Polarity\", hue=\"Bias\", data=sentiment_df, dodge=False, palette = [\"blue\", \"red\", \"magenta\"])\n",
    "ax.legend(bbox_to_anchor=(1.02, 1), loc='upper left', borderaxespad=0)\n",
    "#ax.set_xticklabels(ax.get_xticklabels(), rotation=90)\n",
    "plt.title(\"Sentiment polarity for various newspapers with subject homelessness\", size = 12)\n",
    "wrap_labels(ax, 13)"
   ]
  },
  {
   "cell_type": "code",
   "execution_count": 300,
   "id": "638362a5",
   "metadata": {},
   "outputs": [
    {
     "data": {
      "image/png": "[encoded data removed]",
      "text/plain": [
       "<Figure size 800x565.685 with 1 Axes>"
      ]
     },
     "metadata": {},
     "output_type": "display_data"
    }
   ],
   "source": [
    "#Median central-tendency is used as data is non-parametric\n",
    "a4_dims = (8, 8/sqrt(2))\n",
    "fig, ax = plt.subplots(figsize=a4_dims)\n",
    "ax=sns.barplot(x=\"Newspaper\", y=\"Subjectivity\", hue=\"Bias\", data=sentiment_df, dodge=False, palette = [\"blue\", \"red\", \"magenta\"])\n",
    "ax.legend(bbox_to_anchor=(1.02, 1), loc='upper left', borderaxespad=0)\n",
    "#ax.set_xticklabels(ax.get_xticklabels(), rotation=90)\n",
    "plt.title(\"Sentiment subjectivity for various newspapers with subject homelessness\", size = 12)\n",
    "wrap_labels(ax, 13)"
   ]
  },
  {
   "cell_type": "markdown",
   "id": "4aafdc2d",
   "metadata": {},
   "source": [
    "## References\n",
    "\n",
    "https://newspaper.readthedocs.io/en/latest/\n",
    "\n",
    "https://www.geeksforgeeks.org/newspaper-article-scraping-curation-python/\n",
    "\n",
    "https://www.analyticsvidhya.com/blog/2021/11/web-scraping-a-news-article-and-performing-sentiment-analysis-using-nlp/\n",
    "\n",
    "https://mediabiasfactcheck.com/"
   ]
  },
  {
   "cell_type": "code",
   "execution_count": null,
   "id": "ff491f87",
   "metadata": {},
   "outputs": [],
   "source": []
  }
 ],
 "metadata": {
  "kernelspec": {
   "display_name": "Python 3 (ipykernel)",
   "language": "python",
   "name": "python3"
  },
  "language_info": {
   "codemirror_mode": {
    "name": "ipython",
    "version": 3
   },
   "file_extension": ".py",
   "mimetype": "text/x-python",
   "name": "python",
   "nbconvert_exporter": "python",
   "pygments_lexer": "ipython3",
   "version": "3.9.13"
  }
 },
 "nbformat": 4,
 "nbformat_minor": 5
}
